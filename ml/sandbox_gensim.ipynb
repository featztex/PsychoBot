{
 "cells": [
  {
   "cell_type": "code",
   "execution_count": 62,
   "id": "22d9b832",
   "metadata": {},
   "outputs": [
    {
     "name": "stderr",
     "output_type": "stream",
     "text": [
      "[nltk_data] Downloading package stopwords to\n",
      "[nltk_data]     C:\\Users\\User\\AppData\\Roaming\\nltk_data...\n",
      "[nltk_data]   Package stopwords is already up-to-date!\n"
     ]
    }
   ],
   "source": [
    "#preprocessing libriaris\n",
    "import nltk\n",
    "nltk.download(\"stopwords\")\n",
    "#stopwords modules\n",
    "from nltk.corpus import stopwords\n",
    "from pymystem3 import Mystem\n",
    "from string import punctuation"
   ]
  },
  {
   "cell_type": "code",
   "execution_count": 63,
   "id": "69b451ce",
   "metadata": {},
   "outputs": [
    {
     "data": {
      "text/plain": [
       "'<| startoftext |> выкидывать твой мысль грусть пустота печаль помнить подарить лето время февраль <| endoftext |>\\n'"
      ]
     },
     "execution_count": 63,
     "metadata": {},
     "output_type": "execute_result"
    }
   ],
   "source": [
    "#Create lemmatizer and stopwords list\n",
    "mystem = Mystem() \n",
    "russian_stopwords = stopwords.words(\"russian\")\n",
    "\n",
    "#Preprocess function (stopwords, puncuation, etc)\n",
    "def preprocess_text(text):\n",
    "    tokens = mystem.lemmatize(text.lower())\n",
    "    tokens = [token for token in tokens if token not in russian_stopwords\\\n",
    "              and token != \" \" \\\n",
    "              and token.strip() not in punctuation]\n",
    "    \n",
    "    text = \" \".join(tokens)\n",
    "    \n",
    "    return text\n",
    "\n",
    "#Examples    \n",
    "preprocess_text(\"<|startoftext|>Выкинь все, что есть в твоих мыслях: грусть, пустоту, печаль. Помнишь, как ты подарил мне лето, в то время, как был февраль.<|endoftext|>\")"
   ]
  },
  {
   "cell_type": "code",
   "execution_count": 87,
   "id": "e195ba1e",
   "metadata": {},
   "outputs": [],
   "source": [
    "import pandas as pd\n",
    "import numpy as np\n",
    "import io\n",
    "\n",
    "qoute_path = '../parsing/data/cleaned_tagged.txt'\n",
    "\n",
    "df = pd.read_csv(qoute_path, sep='<\\d*>', engine ='python', names=['quotes']) #reading quotes to the dataframe\n",
    "with open(qoute_path, 'r', encoding='utf-8') as file:\n",
    "    data = file.read().replace('\\n', ' nextquote ')\n",
    "    processed_data = preprocess_text(data)  #preprocessing qoutes\n",
    "#dataframe with quotes and their processed versions\n",
    "df.insert(loc=1, column=\"processed_quotes\", value=processed_data.split('nextquote')[:-1], allow_duplicates=True) "
   ]
  },
  {
   "cell_type": "code",
   "execution_count": 88,
   "id": "a689e8b7",
   "metadata": {},
   "outputs": [
    {
     "data": {
      "text/html": [
       "<div>\n",
       "<style scoped>\n",
       "    .dataframe tbody tr th:only-of-type {\n",
       "        vertical-align: middle;\n",
       "    }\n",
       "\n",
       "    .dataframe tbody tr th {\n",
       "        vertical-align: top;\n",
       "    }\n",
       "\n",
       "    .dataframe thead th {\n",
       "        text-align: right;\n",
       "    }\n",
       "</style>\n",
       "<table border=\"1\" class=\"dataframe\">\n",
       "  <thead>\n",
       "    <tr style=\"text-align: right;\">\n",
       "      <th></th>\n",
       "      <th>quotes</th>\n",
       "      <th>processed_quotes</th>\n",
       "    </tr>\n",
       "  </thead>\n",
       "  <tbody>\n",
       "    <tr>\n",
       "      <th>0</th>\n",
       "      <td>Выкинь все, что есть в твоих мыслях: грусть, п...</td>\n",
       "      <td>выкидывать твой мысль грусть пустота печаль по...</td>\n",
       "    </tr>\n",
       "    <tr>\n",
       "      <th>1</th>\n",
       "      <td>Порой молчание, красноречивее любых произнесен...</td>\n",
       "      <td>пора молчание красноречиво любой произносить ...</td>\n",
       "    </tr>\n",
       "    <tr>\n",
       "      <th>2</th>\n",
       "      <td>А вы знаете, жизнь ведь замечательна и удивите...</td>\n",
       "      <td>знать жизнь замечательный удивительный услови...</td>\n",
       "    </tr>\n",
       "    <tr>\n",
       "      <th>3</th>\n",
       "      <td>- А че он такой красивый?</td>\n",
       "      <td>че красивый</td>\n",
       "    </tr>\n",
       "    <tr>\n",
       "      <th>4</th>\n",
       "      <td>Не тот велик, кто никогда не падал, а тот вели...</td>\n",
       "      <td>большой падать большой падать вставать</td>\n",
       "    </tr>\n",
       "    <tr>\n",
       "      <th>...</th>\n",
       "      <td>...</td>\n",
       "      <td>...</td>\n",
       "    </tr>\n",
       "    <tr>\n",
       "      <th>12522</th>\n",
       "      <td>Величайшая твердость и есть величайшее милосер...</td>\n",
       "      <td>великий твердость великий милосердие</td>\n",
       "    </tr>\n",
       "    <tr>\n",
       "      <th>12523</th>\n",
       "      <td>Ничто великое в мире не совершается без страсти.</td>\n",
       "      <td>ничто великий мир совершаться страсть</td>\n",
       "    </tr>\n",
       "    <tr>\n",
       "      <th>12524</th>\n",
       "      <td>Бог рад нечетному числу.</td>\n",
       "      <td>бог рад нечетный число</td>\n",
       "    </tr>\n",
       "    <tr>\n",
       "      <th>12525</th>\n",
       "      <td>Иные утверждают, что душа есть воздух.</td>\n",
       "      <td>иной утверждать душа воздух</td>\n",
       "    </tr>\n",
       "    <tr>\n",
       "      <th>12526</th>\n",
       "      <td>Писатель существует только тогда, когда тверды...</td>\n",
       "      <td>писатель существовать твердый убеждение</td>\n",
       "    </tr>\n",
       "  </tbody>\n",
       "</table>\n",
       "<p>12527 rows × 2 columns</p>\n",
       "</div>"
      ],
      "text/plain": [
       "                                                  quotes  \\\n",
       "0      Выкинь все, что есть в твоих мыслях: грусть, п...   \n",
       "1      Порой молчание, красноречивее любых произнесен...   \n",
       "2      А вы знаете, жизнь ведь замечательна и удивите...   \n",
       "3                              - А че он такой красивый?   \n",
       "4      Не тот велик, кто никогда не падал, а тот вели...   \n",
       "...                                                  ...   \n",
       "12522  Величайшая твердость и есть величайшее милосер...   \n",
       "12523   Ничто великое в мире не совершается без страсти.   \n",
       "12524                           Бог рад нечетному числу.   \n",
       "12525             Иные утверждают, что душа есть воздух.   \n",
       "12526  Писатель существует только тогда, когда тверды...   \n",
       "\n",
       "                                        processed_quotes  \n",
       "0      выкидывать твой мысль грусть пустота печаль по...  \n",
       "1       пора молчание красноречиво любой произносить ...  \n",
       "2       знать жизнь замечательный удивительный услови...  \n",
       "3                                           че красивый   \n",
       "4                большой падать большой падать вставать   \n",
       "...                                                  ...  \n",
       "12522              великий твердость великий милосердие   \n",
       "12523             ничто великий мир совершаться страсть   \n",
       "12524                            бог рад нечетный число   \n",
       "12525                       иной утверждать душа воздух   \n",
       "12526           писатель существовать твердый убеждение   \n",
       "\n",
       "[12527 rows x 2 columns]"
      ]
     },
     "execution_count": 88,
     "metadata": {},
     "output_type": "execute_result"
    }
   ],
   "source": [
    "df"
   ]
  },
  {
   "cell_type": "code",
   "execution_count": null,
   "id": "224dc505",
   "metadata": {},
   "outputs": [],
   "source": []
  }
 ],
 "metadata": {
  "kernelspec": {
   "display_name": "Python 3 (ipykernel)",
   "language": "python",
   "name": "python3"
  },
  "language_info": {
   "codemirror_mode": {
    "name": "ipython",
    "version": 3
   },
   "file_extension": ".py",
   "mimetype": "text/x-python",
   "name": "python",
   "nbconvert_exporter": "python",
   "pygments_lexer": "ipython3",
   "version": "3.8.8"
  }
 },
 "nbformat": 4,
 "nbformat_minor": 5
}
