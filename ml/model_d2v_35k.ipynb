{
 "cells": [
  {
   "cell_type": "markdown",
   "id": "bfb0ccf5",
   "metadata": {},
   "source": [
    "## Doc2vec model with small finetuning built on the dataset of 35k quotes\n"
   ]
  },
  {
   "cell_type": "code",
   "execution_count": 1,
   "id": "37a93a67",
   "metadata": {},
   "outputs": [
    {
     "name": "stderr",
     "output_type": "stream",
     "text": [
      "[nltk_data] Downloading package stopwords to\n",
      "[nltk_data]     C:\\Users\\User\\AppData\\Roaming\\nltk_data...\n",
      "[nltk_data]   Package stopwords is already up-to-date!\n"
     ]
    }
   ],
   "source": [
    "#preprocessing libriaris\n",
    "import nltk\n",
    "nltk.download(\"stopwords\")\n",
    "#stopwords modules\n",
    "from nltk.corpus import stopwords\n",
    "from pymystem3 import Mystem\n",
    "from string import punctuation\n",
    "\n",
    "import pandas as pd\n",
    "import numpy as np\n",
    "import io\n",
    "\n",
    "import gensim"
   ]
  },
  {
   "cell_type": "code",
   "execution_count": 2,
   "id": "a1fe563a",
   "metadata": {},
   "outputs": [],
   "source": [
    "#Create lemmatizer and stopwords list\n",
    "mystem = Mystem() \n",
    "russian_stopwords = stopwords.words(\"russian\")\n",
    "\n",
    "#Preprocess function (stopwords, puncuation, etc)\n",
    "def preprocess_text(text):\n",
    "    tokens = mystem.lemmatize(text.lower())\n",
    "    tokens = [token for token in tokens if token not in russian_stopwords \\\n",
    "              and token not in [\" \",\"\\n\", \"…\"] \\\n",
    "              and all((c not in token.strip()) for c in punctuation)] \n",
    "    text = \" \".join(tokens)\n",
    "    \n",
    "    return text\n"
   ]
  },
  {
   "cell_type": "code",
   "execution_count": 3,
   "id": "0226e51e",
   "metadata": {
    "scrolled": true
   },
   "outputs": [],
   "source": [
    "#loading dataset\n",
    "qoutes_path = '../parsing/data/big_data.csv'\n",
    "\n",
    "df_35k = pd.read_csv(qoutes_path, sep=',', engine ='python') #reading quotes to the dataframe\n",
    "df_35k.drop_duplicates(subset=\"citation\", keep = 'first', inplace = True)\n",
    "df_35k.reset_index(drop=True, inplace = True)"
   ]
  },
  {
   "cell_type": "code",
   "execution_count": 4,
   "id": "b697cd78",
   "metadata": {},
   "outputs": [
    {
     "data": {
      "text/html": [
       "<div>\n",
       "<style scoped>\n",
       "    .dataframe tbody tr th:only-of-type {\n",
       "        vertical-align: middle;\n",
       "    }\n",
       "\n",
       "    .dataframe tbody tr th {\n",
       "        vertical-align: top;\n",
       "    }\n",
       "\n",
       "    .dataframe thead th {\n",
       "        text-align: right;\n",
       "    }\n",
       "</style>\n",
       "<table border=\"1\" class=\"dataframe\">\n",
       "  <thead>\n",
       "    <tr style=\"text-align: right;\">\n",
       "      <th></th>\n",
       "      <th>Unnamed: 0</th>\n",
       "      <th>Unnamed: 0.1</th>\n",
       "      <th>id</th>\n",
       "      <th>citation</th>\n",
       "      <th>author</th>\n",
       "      <th>raw_tags</th>\n",
       "      <th>tags</th>\n",
       "      <th>strlen</th>\n",
       "      <th>num_words</th>\n",
       "    </tr>\n",
       "  </thead>\n",
       "  <tbody>\n",
       "    <tr>\n",
       "      <th>0</th>\n",
       "      <td>0</td>\n",
       "      <td>0</td>\n",
       "      <td>0</td>\n",
       "      <td>Предпочитая быть романтиком  во время тягостны...</td>\n",
       "      <td>Игорь Губерман</td>\n",
       "      <td>['юмор', 'олюбвисулыбкой']</td>\n",
       "      <td>['юмор', 'олюбвисулыбкой']</td>\n",
       "      <td>112</td>\n",
       "      <td>17</td>\n",
       "    </tr>\n",
       "    <tr>\n",
       "      <th>1</th>\n",
       "      <td>1</td>\n",
       "      <td>1</td>\n",
       "      <td>1</td>\n",
       "      <td>Чужую беду ощущая своей, вживаясь в чужие печа...</td>\n",
       "      <td>Игорь Губерман</td>\n",
       "      <td>['ирония', 'стихи']</td>\n",
       "      <td>['ирония', 'стихи']</td>\n",
       "      <td>116</td>\n",
       "      <td>19</td>\n",
       "    </tr>\n",
       "    <tr>\n",
       "      <th>2</th>\n",
       "      <td>2</td>\n",
       "      <td>2</td>\n",
       "      <td>2</td>\n",
       "      <td>Обманчива наша земная стезя, Идешь то туда, то...</td>\n",
       "      <td>Игорь Губерман</td>\n",
       "      <td>['жизнь', 'стихи', 'осознание']</td>\n",
       "      <td>['жизнь', 'стихи', 'осознание']</td>\n",
       "      <td>122</td>\n",
       "      <td>22</td>\n",
       "    </tr>\n",
       "    <tr>\n",
       "      <th>3</th>\n",
       "      <td>3</td>\n",
       "      <td>3</td>\n",
       "      <td>3</td>\n",
       "      <td>Жить, покоем дорожа, — пресно, тускло, просток...</td>\n",
       "      <td>Игорь Губерман</td>\n",
       "      <td>['жизнь', 'стихи', 'душа']</td>\n",
       "      <td>['жизнь', 'стихи', 'душа']</td>\n",
       "      <td>103</td>\n",
       "      <td>15</td>\n",
       "    </tr>\n",
       "    <tr>\n",
       "      <th>4</th>\n",
       "      <td>4</td>\n",
       "      <td>4</td>\n",
       "      <td>4</td>\n",
       "      <td>Все предрассудки прочь отбросив, Но чтоб от Бо...</td>\n",
       "      <td>Игорь Губерман</td>\n",
       "      <td>['стихи', 'предрассудкииразум']</td>\n",
       "      <td>['стихи', 'предрассудкииразум']</td>\n",
       "      <td>111</td>\n",
       "      <td>19</td>\n",
       "    </tr>\n",
       "    <tr>\n",
       "      <th>...</th>\n",
       "      <td>...</td>\n",
       "      <td>...</td>\n",
       "      <td>...</td>\n",
       "      <td>...</td>\n",
       "      <td>...</td>\n",
       "      <td>...</td>\n",
       "      <td>...</td>\n",
       "      <td>...</td>\n",
       "      <td>...</td>\n",
       "    </tr>\n",
       "    <tr>\n",
       "      <th>34478</th>\n",
       "      <td>35004</td>\n",
       "      <td>35004</td>\n",
       "      <td>35004</td>\n",
       "      <td>Каждый имеет в сердце свое «кладбище», куда ни...</td>\n",
       "      <td>Чингиз Абдуллаев</td>\n",
       "      <td>['боль', 'сомнения', 'страхи', 'сердце']</td>\n",
       "      <td>['боль', 'сомнения', 'страхи', 'сердце']</td>\n",
       "      <td>116</td>\n",
       "      <td>20</td>\n",
       "    </tr>\n",
       "    <tr>\n",
       "      <th>34479</th>\n",
       "      <td>35005</td>\n",
       "      <td>35005</td>\n",
       "      <td>35005</td>\n",
       "      <td>Мужчина и женщина равны. Абсолютно равны. Полн...</td>\n",
       "      <td>Чингиз Абдуллаев</td>\n",
       "      <td>['отношения', 'чувства']</td>\n",
       "      <td>['отношения', 'чувства']</td>\n",
       "      <td>177</td>\n",
       "      <td>29</td>\n",
       "    </tr>\n",
       "    <tr>\n",
       "      <th>34480</th>\n",
       "      <td>35006</td>\n",
       "      <td>35006</td>\n",
       "      <td>35006</td>\n",
       "      <td>Для женщины важен сам факт, что ей хотят сдела...</td>\n",
       "      <td>Чингиз Абдуллаев</td>\n",
       "      <td>['отношения', 'цитаты']</td>\n",
       "      <td>['отношения', 'цитаты']</td>\n",
       "      <td>164</td>\n",
       "      <td>28</td>\n",
       "    </tr>\n",
       "    <tr>\n",
       "      <th>34481</th>\n",
       "      <td>35007</td>\n",
       "      <td>35007</td>\n",
       "      <td>35007</td>\n",
       "      <td>Для мужчины нормально, если он защищает женщин...</td>\n",
       "      <td>Чингиз Абдуллаев</td>\n",
       "      <td>['жизнь', 'женщины', 'мужчина']</td>\n",
       "      <td>['жизнь', 'женщины', 'мужчина']</td>\n",
       "      <td>248</td>\n",
       "      <td>37</td>\n",
       "    </tr>\n",
       "    <tr>\n",
       "      <th>34482</th>\n",
       "      <td>35008</td>\n",
       "      <td>35008</td>\n",
       "      <td>35008</td>\n",
       "      <td>Необязательно спать с человеком, чтобы чувство...</td>\n",
       "      <td>Чингиз Абдуллаев</td>\n",
       "      <td>['духовность', 'близкие']</td>\n",
       "      <td>['духовность', 'близкие']</td>\n",
       "      <td>116</td>\n",
       "      <td>15</td>\n",
       "    </tr>\n",
       "  </tbody>\n",
       "</table>\n",
       "<p>34483 rows × 9 columns</p>\n",
       "</div>"
      ],
      "text/plain": [
       "       Unnamed: 0  Unnamed: 0.1     id  \\\n",
       "0               0             0      0   \n",
       "1               1             1      1   \n",
       "2               2             2      2   \n",
       "3               3             3      3   \n",
       "4               4             4      4   \n",
       "...           ...           ...    ...   \n",
       "34478       35004         35004  35004   \n",
       "34479       35005         35005  35005   \n",
       "34480       35006         35006  35006   \n",
       "34481       35007         35007  35007   \n",
       "34482       35008         35008  35008   \n",
       "\n",
       "                                                citation            author  \\\n",
       "0      Предпочитая быть романтиком  во время тягостны...    Игорь Губерман   \n",
       "1      Чужую беду ощущая своей, вживаясь в чужие печа...    Игорь Губерман   \n",
       "2      Обманчива наша земная стезя, Идешь то туда, то...    Игорь Губерман   \n",
       "3      Жить, покоем дорожа, — пресно, тускло, просток...    Игорь Губерман   \n",
       "4      Все предрассудки прочь отбросив, Но чтоб от Бо...    Игорь Губерман   \n",
       "...                                                  ...               ...   \n",
       "34478  Каждый имеет в сердце свое «кладбище», куда ни...  Чингиз Абдуллаев   \n",
       "34479  Мужчина и женщина равны. Абсолютно равны. Полн...  Чингиз Абдуллаев   \n",
       "34480  Для женщины важен сам факт, что ей хотят сдела...  Чингиз Абдуллаев   \n",
       "34481  Для мужчины нормально, если он защищает женщин...  Чингиз Абдуллаев   \n",
       "34482  Необязательно спать с человеком, чтобы чувство...  Чингиз Абдуллаев   \n",
       "\n",
       "                                       raw_tags  \\\n",
       "0                    ['юмор', 'олюбвисулыбкой']   \n",
       "1                           ['ирония', 'стихи']   \n",
       "2               ['жизнь', 'стихи', 'осознание']   \n",
       "3                    ['жизнь', 'стихи', 'душа']   \n",
       "4               ['стихи', 'предрассудкииразум']   \n",
       "...                                         ...   \n",
       "34478  ['боль', 'сомнения', 'страхи', 'сердце']   \n",
       "34479                  ['отношения', 'чувства']   \n",
       "34480                   ['отношения', 'цитаты']   \n",
       "34481           ['жизнь', 'женщины', 'мужчина']   \n",
       "34482                 ['духовность', 'близкие']   \n",
       "\n",
       "                                           tags  strlen  num_words  \n",
       "0                    ['юмор', 'олюбвисулыбкой']     112         17  \n",
       "1                           ['ирония', 'стихи']     116         19  \n",
       "2               ['жизнь', 'стихи', 'осознание']     122         22  \n",
       "3                    ['жизнь', 'стихи', 'душа']     103         15  \n",
       "4               ['стихи', 'предрассудкииразум']     111         19  \n",
       "...                                         ...     ...        ...  \n",
       "34478  ['боль', 'сомнения', 'страхи', 'сердце']     116         20  \n",
       "34479                  ['отношения', 'чувства']     177         29  \n",
       "34480                   ['отношения', 'цитаты']     164         28  \n",
       "34481           ['жизнь', 'женщины', 'мужчина']     248         37  \n",
       "34482                 ['духовность', 'близкие']     116         15  \n",
       "\n",
       "[34483 rows x 9 columns]"
      ]
     },
     "execution_count": 4,
     "metadata": {},
     "output_type": "execute_result"
    }
   ],
   "source": [
    "df_35k"
   ]
  },
  {
   "cell_type": "code",
   "execution_count": 177,
   "id": "b88cb5c3",
   "metadata": {
    "scrolled": true
   },
   "outputs": [
    {
     "data": {
      "text/html": [
       "<div>\n",
       "<style scoped>\n",
       "    .dataframe tbody tr th:only-of-type {\n",
       "        vertical-align: middle;\n",
       "    }\n",
       "\n",
       "    .dataframe tbody tr th {\n",
       "        vertical-align: top;\n",
       "    }\n",
       "\n",
       "    .dataframe thead th {\n",
       "        text-align: right;\n",
       "    }\n",
       "</style>\n",
       "<table border=\"1\" class=\"dataframe\">\n",
       "  <thead>\n",
       "    <tr style=\"text-align: right;\">\n",
       "      <th></th>\n",
       "      <th>quotes</th>\n",
       "      <th>processed_quotes</th>\n",
       "    </tr>\n",
       "  </thead>\n",
       "  <tbody>\n",
       "    <tr>\n",
       "      <th>0</th>\n",
       "      <td>\"Предпочитая быть романтиком  во время тягостн...</td>\n",
       "      <td>предпочитать романтик    время тягостный реше...</td>\n",
       "    </tr>\n",
       "    <tr>\n",
       "      <th>1</th>\n",
       "      <td>\"Чужую беду ощущая своей, вживаясь в чужие печ...</td>\n",
       "      <td>чужой беда ощущать свой вживаться чужой печал...</td>\n",
       "    </tr>\n",
       "    <tr>\n",
       "      <th>2</th>\n",
       "      <td>\"Обманчива наша земная стезя, Идешь то туда, т...</td>\n",
       "      <td>обманчивый наш земной стезя идти туда обратно...</td>\n",
       "    </tr>\n",
       "    <tr>\n",
       "      <th>3</th>\n",
       "      <td>\"Жить, покоем дорожа, — пресно, тускло, просто...</td>\n",
       "      <td>жить покой дорожить пресный тускло простокваш...</td>\n",
       "    </tr>\n",
       "    <tr>\n",
       "      <th>4</th>\n",
       "      <td>\"Все предрассудки прочь отбросив, Но чтоб от Б...</td>\n",
       "      <td>весь предрассудок прочь отбрасывать бог секре...</td>\n",
       "    </tr>\n",
       "    <tr>\n",
       "      <th>...</th>\n",
       "      <td>...</td>\n",
       "      <td>...</td>\n",
       "    </tr>\n",
       "    <tr>\n",
       "      <th>34478</th>\n",
       "      <td>\"Каждый имеет в сердце свое «кладбище», куда н...</td>\n",
       "      <td>каждый иметь сердце свой  « кладбище никто пу...</td>\n",
       "    </tr>\n",
       "    <tr>\n",
       "      <th>34479</th>\n",
       "      <td>\"Мужчина и женщина равны. Абсолютно равны. Пол...</td>\n",
       "      <td>мужчина женщина равный абсолютно равный полно...</td>\n",
       "    </tr>\n",
       "    <tr>\n",
       "      <th>34480</th>\n",
       "      <td>\"Для женщины важен сам факт, что ей хотят сдел...</td>\n",
       "      <td>женщина важный факт хотеть сделать приятный м...</td>\n",
       "    </tr>\n",
       "    <tr>\n",
       "      <th>34481</th>\n",
       "      <td>\"Для мужчины нормально, если он защищает женщи...</td>\n",
       "      <td>мужчина нормально защищать женщина любить всп...</td>\n",
       "    </tr>\n",
       "    <tr>\n",
       "      <th>34482</th>\n",
       "      <td>\"Необязательно спать с человеком, чтобы чувств...</td>\n",
       "      <td>необязательно спать человек чувствовать духов...</td>\n",
       "    </tr>\n",
       "  </tbody>\n",
       "</table>\n",
       "<p>34483 rows × 2 columns</p>\n",
       "</div>"
      ],
      "text/plain": [
       "                                                  quotes  \\\n",
       "0      \"Предпочитая быть романтиком  во время тягостн...   \n",
       "1      \"Чужую беду ощущая своей, вживаясь в чужие печ...   \n",
       "2      \"Обманчива наша земная стезя, Идешь то туда, т...   \n",
       "3      \"Жить, покоем дорожа, — пресно, тускло, просто...   \n",
       "4      \"Все предрассудки прочь отбросив, Но чтоб от Б...   \n",
       "...                                                  ...   \n",
       "34478  \"Каждый имеет в сердце свое «кладбище», куда н...   \n",
       "34479  \"Мужчина и женщина равны. Абсолютно равны. Пол...   \n",
       "34480  \"Для женщины важен сам факт, что ей хотят сдел...   \n",
       "34481  \"Для мужчины нормально, если он защищает женщи...   \n",
       "34482  \"Необязательно спать с человеком, чтобы чувств...   \n",
       "\n",
       "                                        processed_quotes  \n",
       "0       предпочитать романтик    время тягостный реше...  \n",
       "1       чужой беда ощущать свой вживаться чужой печал...  \n",
       "2       обманчивый наш земной стезя идти туда обратно...  \n",
       "3       жить покой дорожить пресный тускло простокваш...  \n",
       "4       весь предрассудок прочь отбрасывать бог секре...  \n",
       "...                                                  ...  \n",
       "34478   каждый иметь сердце свой  « кладбище никто пу...  \n",
       "34479   мужчина женщина равный абсолютно равный полно...  \n",
       "34480   женщина важный факт хотеть сделать приятный м...  \n",
       "34481   мужчина нормально защищать женщина любить всп...  \n",
       "34482   необязательно спать человек чувствовать духов...  \n",
       "\n",
       "[34483 rows x 2 columns]"
      ]
     },
     "execution_count": 177,
     "metadata": {},
     "output_type": "execute_result"
    }
   ],
   "source": [
    "df_35k.rename(columns={'citation': 'quotes'}, inplace=True)\n",
    "df_35k['quotes'].to_csv('processed_data/pure_q_35k.csv', index=False)\n",
    "df = pd.read_csv('processed_data/pure_q_35k.csv', sep='<\\d*>', engine ='python') #reading quotes to the dataframe\n",
    "with open('processed_data/pure_q_35k.csv', 'r', encoding='utf-8') as file:\n",
    "    data = file.read().replace('\\n', ' nextquote ')\n",
    "    processed_data = preprocess_text(data)  #preprocessing qoutes\n",
    "#dataframe with quotes and their processed versions\n",
    "df.insert(loc=1, column='processed_quotes', value=processed_data.split('nextquote')[1:-1], allow_duplicates=False) \n",
    "df"
   ]
  },
  {
   "cell_type": "code",
   "execution_count": 5,
   "id": "83735a90",
   "metadata": {},
   "outputs": [
    {
     "ename": "NameError",
     "evalue": "name 'df' is not defined",
     "output_type": "error",
     "traceback": [
      "\u001b[1;31m---------------------------------------------------------------------------\u001b[0m",
      "\u001b[1;31mNameError\u001b[0m                                 Traceback (most recent call last)",
      "\u001b[1;32m~\\AppData\\Local\\Temp/ipykernel_13104/1396537375.py\u001b[0m in \u001b[0;36m<module>\u001b[1;34m\u001b[0m\n\u001b[1;32m----> 1\u001b[1;33m \u001b[0mdf\u001b[0m\u001b[1;33m\u001b[0m\u001b[1;33m\u001b[0m\u001b[0m\n\u001b[0m",
      "\u001b[1;31mNameError\u001b[0m: name 'df' is not defined"
     ]
    }
   ],
   "source": [
    "df"
   ]
  },
  {
   "cell_type": "code",
   "execution_count": 179,
   "id": "5f598c67",
   "metadata": {},
   "outputs": [],
   "source": [
    "df.to_csv('processed_data/pure_q_35k.csv', index=False)"
   ]
  },
  {
   "cell_type": "code",
   "execution_count": 6,
   "id": "c6dd941d",
   "metadata": {},
   "outputs": [
    {
     "data": {
      "text/html": [
       "<div>\n",
       "<style scoped>\n",
       "    .dataframe tbody tr th:only-of-type {\n",
       "        vertical-align: middle;\n",
       "    }\n",
       "\n",
       "    .dataframe tbody tr th {\n",
       "        vertical-align: top;\n",
       "    }\n",
       "\n",
       "    .dataframe thead th {\n",
       "        text-align: right;\n",
       "    }\n",
       "</style>\n",
       "<table border=\"1\" class=\"dataframe\">\n",
       "  <thead>\n",
       "    <tr style=\"text-align: right;\">\n",
       "      <th></th>\n",
       "      <th>quotes</th>\n",
       "      <th>processed_quotes</th>\n",
       "    </tr>\n",
       "  </thead>\n",
       "  <tbody>\n",
       "    <tr>\n",
       "      <th>0</th>\n",
       "      <td>\"Предпочитая быть романтиком  во время тягостн...</td>\n",
       "      <td>предпочитать романтик    время тягостный реше...</td>\n",
       "    </tr>\n",
       "    <tr>\n",
       "      <th>1</th>\n",
       "      <td>\"Чужую беду ощущая своей, вживаясь в чужие печ...</td>\n",
       "      <td>чужой беда ощущать свой вживаться чужой печал...</td>\n",
       "    </tr>\n",
       "    <tr>\n",
       "      <th>2</th>\n",
       "      <td>\"Обманчива наша земная стезя, Идешь то туда, т...</td>\n",
       "      <td>обманчивый наш земной стезя идти туда обратно...</td>\n",
       "    </tr>\n",
       "    <tr>\n",
       "      <th>3</th>\n",
       "      <td>\"Жить, покоем дорожа, — пресно, тускло, просто...</td>\n",
       "      <td>жить покой дорожить пресный тускло простокваш...</td>\n",
       "    </tr>\n",
       "    <tr>\n",
       "      <th>4</th>\n",
       "      <td>\"Все предрассудки прочь отбросив, Но чтоб от Б...</td>\n",
       "      <td>весь предрассудок прочь отбрасывать бог секре...</td>\n",
       "    </tr>\n",
       "    <tr>\n",
       "      <th>...</th>\n",
       "      <td>...</td>\n",
       "      <td>...</td>\n",
       "    </tr>\n",
       "    <tr>\n",
       "      <th>34478</th>\n",
       "      <td>\"Каждый имеет в сердце свое «кладбище», куда н...</td>\n",
       "      <td>каждый иметь сердце свой  « кладбище никто пу...</td>\n",
       "    </tr>\n",
       "    <tr>\n",
       "      <th>34479</th>\n",
       "      <td>\"Мужчина и женщина равны. Абсолютно равны. Пол...</td>\n",
       "      <td>мужчина женщина равный абсолютно равный полно...</td>\n",
       "    </tr>\n",
       "    <tr>\n",
       "      <th>34480</th>\n",
       "      <td>\"Для женщины важен сам факт, что ей хотят сдел...</td>\n",
       "      <td>женщина важный факт хотеть сделать приятный м...</td>\n",
       "    </tr>\n",
       "    <tr>\n",
       "      <th>34481</th>\n",
       "      <td>\"Для мужчины нормально, если он защищает женщи...</td>\n",
       "      <td>мужчина нормально защищать женщина любить всп...</td>\n",
       "    </tr>\n",
       "    <tr>\n",
       "      <th>34482</th>\n",
       "      <td>\"Необязательно спать с человеком, чтобы чувств...</td>\n",
       "      <td>необязательно спать человек чувствовать духов...</td>\n",
       "    </tr>\n",
       "  </tbody>\n",
       "</table>\n",
       "<p>34483 rows × 2 columns</p>\n",
       "</div>"
      ],
      "text/plain": [
       "                                                  quotes  \\\n",
       "0      \"Предпочитая быть романтиком  во время тягостн...   \n",
       "1      \"Чужую беду ощущая своей, вживаясь в чужие печ...   \n",
       "2      \"Обманчива наша земная стезя, Идешь то туда, т...   \n",
       "3      \"Жить, покоем дорожа, — пресно, тускло, просто...   \n",
       "4      \"Все предрассудки прочь отбросив, Но чтоб от Б...   \n",
       "...                                                  ...   \n",
       "34478  \"Каждый имеет в сердце свое «кладбище», куда н...   \n",
       "34479  \"Мужчина и женщина равны. Абсолютно равны. Пол...   \n",
       "34480  \"Для женщины важен сам факт, что ей хотят сдел...   \n",
       "34481  \"Для мужчины нормально, если он защищает женщи...   \n",
       "34482  \"Необязательно спать с человеком, чтобы чувств...   \n",
       "\n",
       "                                        processed_quotes  \n",
       "0       предпочитать романтик    время тягостный реше...  \n",
       "1       чужой беда ощущать свой вживаться чужой печал...  \n",
       "2       обманчивый наш земной стезя идти туда обратно...  \n",
       "3       жить покой дорожить пресный тускло простокваш...  \n",
       "4       весь предрассудок прочь отбрасывать бог секре...  \n",
       "...                                                  ...  \n",
       "34478   каждый иметь сердце свой  « кладбище никто пу...  \n",
       "34479   мужчина женщина равный абсолютно равный полно...  \n",
       "34480   женщина важный факт хотеть сделать приятный м...  \n",
       "34481   мужчина нормально защищать женщина любить всп...  \n",
       "34482   необязательно спать человек чувствовать духов...  \n",
       "\n",
       "[34483 rows x 2 columns]"
      ]
     },
     "execution_count": 6,
     "metadata": {},
     "output_type": "execute_result"
    }
   ],
   "source": [
    "df_pure35k = pd.read_csv('processed_data/pure_q_35k.csv', sep=',', engine ='python')\n",
    "df_pure35k"
   ]
  },
  {
   "cell_type": "code",
   "execution_count": 10,
   "id": "1bfeda15",
   "metadata": {},
   "outputs": [],
   "source": [
    "quote_tokens = [q.split() for q in df_pure35k['processed_quotes'].values.tolist()]\n",
    "quote_words = [q for q in df_pure35k['quotes'].values.tolist()]"
   ]
  },
  {
   "cell_type": "code",
   "execution_count": 11,
   "id": "30b3647f",
   "metadata": {},
   "outputs": [],
   "source": [
    "#preparing data for doc2vec\n",
    "def tagged_document(list_of_list_of_words):\n",
    "    for i, list_of_words in enumerate(list_of_list_of_words):\n",
    "        yield gensim.models.doc2vec.TaggedDocument(list_of_words, [i])\n",
    "quotes_for_training = list(tagged_document(quote_tokens))"
   ]
  },
  {
   "cell_type": "code",
   "execution_count": 352,
   "id": "f3aadc92",
   "metadata": {},
   "outputs": [],
   "source": [
    "#buiding a model\n",
    "#model = gensim.models.doc2vec.Doc2Vec(vector_size=50, dm=1, window=4, min_count=1, negative=5, epochs=30, workers=4)\n",
    "model = gensim.models.doc2vec.Doc2Vec(vector_size=50, min_count=1, window=8, dbow_words=1, negative=5, epochs=30, workers=4, sample=10e-5)\n",
    "\n",
    "model.build_vocab(quotes_for_training)\n",
    "\n",
    "model.train(quotes_for_training, total_examples=model.corpus_count, epochs=model.epochs)"
   ]
  },
  {
   "cell_type": "code",
   "execution_count": 196,
   "id": "257e499a",
   "metadata": {},
   "outputs": [],
   "source": [
    "model.save('models/d2v_35k_exp.model')"
   ]
  },
  {
   "cell_type": "code",
   "execution_count": 197,
   "id": "5f6176d3",
   "metadata": {},
   "outputs": [],
   "source": [
    "model_35k_exp = gensim.models.doc2vec.Doc2Vec.load('models/d2v_35k_exp.model')"
   ]
  },
  {
   "cell_type": "code",
   "execution_count": 23,
   "id": "5bae685a",
   "metadata": {},
   "outputs": [],
   "source": [
    "#request handling\n",
    "def request_processing():\n",
    "    request = preprocess_text(input()).split()\n",
    "    return request"
   ]
  },
  {
   "cell_type": "code",
   "execution_count": 24,
   "id": "5c1b66e4",
   "metadata": {},
   "outputs": [],
   "source": [
    "def cluster_check(sim, df, model):\n",
    "    avg = sum([sim_coef for docid, sim_coef in sim])/len(sim)\n",
    "    cluster_coef=[]\n",
    "    for q in sim:\n",
    "        q_sim = model.dv.most_similar(model.infer_vector(df['processed_quotes'][q[0]].split()), topn=len(df))\n",
    "        q_dict = {}\n",
    "        q_dict = dict(q_sim)\n",
    "        q_sim_sim = [q_dict[docid] for docid, sim_coef in sim if docid != q[0]]\n",
    "        cluster_coef.append((q[0],sum(q_sim_sim)/len(q_sim_sim)))\n",
    "    return avg, cluster_coef"
   ]
  },
  {
   "cell_type": "code",
   "execution_count": 441,
   "id": "c622ad18",
   "metadata": {
    "scrolled": true
   },
   "outputs": [
    {
     "name": "stdout",
     "output_type": "stream",
     "text": [
      "Давно я ничего тут не спрашивал, возможно я уже просто нашел то что искал?\n",
      "0.7500077724456787\n",
      "\"Поверь, что ты знаешь все ответы, - и ты знаешь все ответы. Поверь, что ты мастер, - и ты - мастер.\" 0.77 0.585\n",
      "-ты все еще хочешь меня?  -конечно!  что за вопросы -я давно не чувствовала ответов 0.768 0.753\n",
      "\"Испытанный способ решать вопросы, Как будто их нет. Во всем видеть солнечный свет. А. Макаревич «Она идет по жизни смеясь»\" 0.763 0.41\n",
      "\"-Ты действительно хочешь иметь на все ответы? -Конечно, не хочу. Иначе о чем бы мы тогда говорили?\" 0.758 0.706\n",
      "\"Судите о человеке по его вопросам, а не по его ответам.\" 0.751 0.681\n",
      "\"- Откуда ты берешь ответы на все вопросы? - Слушаю больше, чем говорю.\" 0.75 0.683\n",
      "\"Однажды меня спросили, что я думаю, и внимательно выслушали ответ, и это было самым большим комплиментом, который мне когда-либо делали.\" 0.744 0.663\n",
      "\"Суди о человеке по его вопросам, а не по его ответам.\" 0.74 0.622\n",
      "\"- Ты спросил меня, чего я хочу?  - Нет, не спрашивал.  - Так знай: человек рядом с тобой - существует. Думай о нем. Думай, не предложить ли ему виски, джину или кофе. Спроси.\" 0.729 0.506\n",
      "\"Да не о том думай, что спросили, а о том - для чего? Догадаешься - для чего, тогда и поймешь, как надо ответить.\" 0.726 0.706\n"
     ]
    }
   ],
   "source": [
    "Q_NUMBER=10\n",
    "request = request_processing()\n",
    "\"\"\"\n",
    "sim = model.dv.most_similar(model.infer_vector(request, epochs=30), topn=Q_NUMBER)\n",
    "avg, cluster_coefs = cluster_check(sim, df_pure35k, model)\n",
    "cluster_dict = dict(cluster_coefs)\n",
    "print(avg)\n",
    "for quote in sim:\n",
    "    print(quote_words[quote[0]], round(quote[1], 3), round(cluster_dict[quote[0]], 3), '\\n', df_35k['author'][quote[0]])\n",
    "\n",
    "print(\"--------------------------------------------vs old---------------------------------------------------\")\n",
    "\"\"\"\n",
    "\n",
    "sims = model_35k_exp.dv.most_similar(model_35k_exp.infer_vector(request, epochs=30), topn=Q_NUMBER)\n",
    "avg, cluster_coefs = cluster_check(sims, df_pure35k, model_35k_exp)\n",
    "cluster_dict = dict(cluster_coefs)\n",
    "print(avg)\n",
    "for quote in sims:\n",
    "    print(quote_words[quote[0]], round(quote[1], 3), round(cluster_dict[quote[0]], 3))\n"
   ]
  },
  {
   "cell_type": "markdown",
   "id": "950651d1",
   "metadata": {},
   "source": [
    "#### Теперь попробуем увеличить словарь, пополнив его обычным связным текстом без глубокого смысла, чтоб дать модели классической лингвической грамматности "
   ]
  },
  {
   "cell_type": "code",
   "execution_count": 468,
   "id": "018691d5",
   "metadata": {},
   "outputs": [],
   "source": [
    "#loading dataset\n",
    "qoutes_path = '../parsing/data/other/short.txt'\n",
    "\n",
    "df_short = pd.read_csv(qoutes_path, sep='\\n', engine ='python', header=None)#reading quotes to the dataframe\n",
    "df_short.columns = [\"quotes\"]"
   ]
  },
  {
   "cell_type": "code",
   "execution_count": 448,
   "id": "765c8af9",
   "metadata": {},
   "outputs": [],
   "source": [
    "with open(qoutes_path, 'r', encoding='utf-8') as file:\n",
    "    data = file.read().replace('\\n', ' nextquote ')\n",
    "    processed_data = preprocess_text(data) "
   ]
  },
  {
   "cell_type": "code",
   "execution_count": 469,
   "id": "d5b1b187",
   "metadata": {},
   "outputs": [],
   "source": [
    "df_short.insert(loc=1, column=\"processed_quotes\", value=processed_data.split('nextquote')[:-1])\n",
    "df_short.drop_duplicates(subset=\"processed_quotes\", keep = 'first', inplace = True)\n",
    "df_short.reset_index(drop=True, inplace = True)"
   ]
  },
  {
   "cell_type": "code",
   "execution_count": 473,
   "id": "43c64f56",
   "metadata": {},
   "outputs": [],
   "source": [
    "df_35k_short = df_pure35k.append(df_short)\n",
    "df_35k_short.reset_index(drop=True, inplace = True)"
   ]
  },
  {
   "cell_type": "code",
   "execution_count": 474,
   "id": "48ad4092",
   "metadata": {},
   "outputs": [
    {
     "data": {
      "text/html": [
       "<div>\n",
       "<style scoped>\n",
       "    .dataframe tbody tr th:only-of-type {\n",
       "        vertical-align: middle;\n",
       "    }\n",
       "\n",
       "    .dataframe tbody tr th {\n",
       "        vertical-align: top;\n",
       "    }\n",
       "\n",
       "    .dataframe thead th {\n",
       "        text-align: right;\n",
       "    }\n",
       "</style>\n",
       "<table border=\"1\" class=\"dataframe\">\n",
       "  <thead>\n",
       "    <tr style=\"text-align: right;\">\n",
       "      <th></th>\n",
       "      <th>quotes</th>\n",
       "      <th>processed_quotes</th>\n",
       "    </tr>\n",
       "  </thead>\n",
       "  <tbody>\n",
       "    <tr>\n",
       "      <th>0</th>\n",
       "      <td>\"Предпочитая быть романтиком  во время тягостн...</td>\n",
       "      <td>предпочитать романтик    время тягостный реше...</td>\n",
       "    </tr>\n",
       "    <tr>\n",
       "      <th>1</th>\n",
       "      <td>\"Чужую беду ощущая своей, вживаясь в чужие печ...</td>\n",
       "      <td>чужой беда ощущать свой вживаться чужой печал...</td>\n",
       "    </tr>\n",
       "    <tr>\n",
       "      <th>2</th>\n",
       "      <td>\"Обманчива наша земная стезя, Идешь то туда, т...</td>\n",
       "      <td>обманчивый наш земной стезя идти туда обратно...</td>\n",
       "    </tr>\n",
       "    <tr>\n",
       "      <th>3</th>\n",
       "      <td>\"Жить, покоем дорожа, — пресно, тускло, просто...</td>\n",
       "      <td>жить покой дорожить пресный тускло простокваш...</td>\n",
       "    </tr>\n",
       "    <tr>\n",
       "      <th>4</th>\n",
       "      <td>\"Все предрассудки прочь отбросив, Но чтоб от Б...</td>\n",
       "      <td>весь предрассудок прочь отбрасывать бог секре...</td>\n",
       "    </tr>\n",
       "    <tr>\n",
       "      <th>...</th>\n",
       "      <td>...</td>\n",
       "      <td>...</td>\n",
       "    </tr>\n",
       "    <tr>\n",
       "      <th>340171</th>\n",
       "      <td>Я была в музее 2 раза.</td>\n",
       "      <td>музей 2</td>\n",
       "    </tr>\n",
       "    <tr>\n",
       "      <th>340172</th>\n",
       "      <td>Да в безопасности я не сомневался.</td>\n",
       "      <td>безопасность сомневаться</td>\n",
       "    </tr>\n",
       "    <tr>\n",
       "      <th>340173</th>\n",
       "      <td>Почему так, я не знаю.</td>\n",
       "      <td>почему знать</td>\n",
       "    </tr>\n",
       "    <tr>\n",
       "      <th>340174</th>\n",
       "      <td>Я проверила, там есть транспорт.</td>\n",
       "      <td>проверять транспорт</td>\n",
       "    </tr>\n",
       "    <tr>\n",
       "      <th>340175</th>\n",
       "      <td>Я в принципе склонялся к Регенсбургу.</td>\n",
       "      <td>принцип склоняться регенсбург</td>\n",
       "    </tr>\n",
       "  </tbody>\n",
       "</table>\n",
       "<p>340176 rows × 2 columns</p>\n",
       "</div>"
      ],
      "text/plain": [
       "                                                   quotes  \\\n",
       "0       \"Предпочитая быть романтиком  во время тягостн...   \n",
       "1       \"Чужую беду ощущая своей, вживаясь в чужие печ...   \n",
       "2       \"Обманчива наша земная стезя, Идешь то туда, т...   \n",
       "3       \"Жить, покоем дорожа, — пресно, тускло, просто...   \n",
       "4       \"Все предрассудки прочь отбросив, Но чтоб от Б...   \n",
       "...                                                   ...   \n",
       "340171                             Я была в музее 2 раза.   \n",
       "340172                 Да в безопасности я не сомневался.   \n",
       "340173                             Почему так, я не знаю.   \n",
       "340174                   Я проверила, там есть транспорт.   \n",
       "340175              Я в принципе склонялся к Регенсбургу.   \n",
       "\n",
       "                                         processed_quotes  \n",
       "0        предпочитать романтик    время тягостный реше...  \n",
       "1        чужой беда ощущать свой вживаться чужой печал...  \n",
       "2        обманчивый наш земной стезя идти туда обратно...  \n",
       "3        жить покой дорожить пресный тускло простокваш...  \n",
       "4        весь предрассудок прочь отбрасывать бог секре...  \n",
       "...                                                   ...  \n",
       "340171                                           музей 2   \n",
       "340172                          безопасность сомневаться   \n",
       "340173                                      почему знать   \n",
       "340174                               проверять транспорт   \n",
       "340175                     принцип склоняться регенсбург   \n",
       "\n",
       "[340176 rows x 2 columns]"
      ]
     },
     "execution_count": 474,
     "metadata": {},
     "output_type": "execute_result"
    }
   ],
   "source": [
    "df_35k_short"
   ]
  },
  {
   "cell_type": "code",
   "execution_count": 476,
   "id": "6077095d",
   "metadata": {},
   "outputs": [],
   "source": [
    "q_35_300_tokens = [q.split() for q in df_35k_short['processed_quotes'].values.tolist()]\n",
    "q_35_300_words = [q for q in df_35k_short['quotes'].values.tolist()]\n",
    "q_35_300_for_training = list(tagged_document(q_35_300_tokens))"
   ]
  },
  {
   "cell_type": "code",
   "execution_count": 481,
   "id": "3aa63880",
   "metadata": {},
   "outputs": [
    {
     "data": {
      "text/plain": [
       "66838"
      ]
     },
     "execution_count": 481,
     "metadata": {},
     "output_type": "execute_result"
    }
   ],
   "source": [
    "model = gensim.models.doc2vec.Doc2Vec(vector_size=50, min_count=2, window=8, dbow_words=1, negative=1, epochs=10, workers=4, sample=10e-5)\n",
    "model.scan_vocab(q_35_300_for_training)\n",
    "vocab = {k: v for k, v in sorted(model.raw_vocab.items(), key=lambda item: item[1], reverse=True)}\n",
    "len(vocab)"
   ]
  },
  {
   "cell_type": "code",
   "execution_count": 478,
   "id": "0d6fa827",
   "metadata": {},
   "outputs": [],
   "source": [
    "#buiding a model\n",
    "#model = gensim.models.doc2vec.Doc2Vec(vector_size=50, dm=1, window=4, min_count=1, negative=5, epochs=30, workers=4)\n",
    "model = gensim.models.doc2vec.Doc2Vec(vector_size=50, min_count=2, window=8, dbow_words=1, negative=1, epochs=10, workers=4, sample=10e-5))\n",
    "\n",
    "model.build_vocab(q_35_300_for_training)\n",
    "\n",
    "model.train(q_35_300_for_training, total_examples=model.corpus_count, epochs=model.epochs)"
   ]
  },
  {
   "cell_type": "code",
   "execution_count": 480,
   "id": "0164965a",
   "metadata": {},
   "outputs": [
    {
     "name": "stdout",
     "output_type": "stream",
     "text": [
      "я хочу понять, что такое быть одному, но не быть одиноким, я просто хочу полюбить это чувство\n",
      "0.7395279169082641\n",
      "\"/Нет человека более одинокого, чем тот, кто пережил любимую./\" 0.79 0.768 \n",
      " Эрнест Хемингуэй\n",
      "\"Человек одинок, когда любит, и одинок, когда умирает; никому нет дела до человека, целиком погруженного в собственные переживания.\" 0.753 0.453 \n",
      " Джон Голсуорси\n",
      "\"«Научись любить, не требуя ответной любви. Отдавать, даже если кажется, что ничего не останется. Чувствовать себя счастливым даже в разгар тяжкой работы. Протягивать руку ближнему, будучи одиноким и покинутым… И верить - даже если никто не будет верить в тебя\"\".\" 0.751 0.371 \n",
      " Пауло Коэльо\n",
      "\"Если я полюблю человека, я полюблю его нацию, а если я возненавижу его, то навсегда забуду какой он национальности.\" 0.743 0.2 \n",
      " Расул Гамзатов\n",
      "\"Если человек должен быть одинок, пусть он действительно будет одинок и не насилует своих инстинктов и чувств фальшивой близостью.\" 0.735 0.428 \n",
      " Ричард Олдингтон\n",
      "\"Мужчина громко негодует на женщину, которая его разлюбила, - и быстро утешается; женщина не столь бурно выражает свои чувства, когда ее покидают, но долго остается безутешной.\" 0.735 0.448 \n",
      " Жан де Лабрюйер\n",
      "\"То что ты одинока только подчеркивает, что не можешь кого-то забыть.\" 0.726 0.739 \n",
      " Ринат Валиуллин\n",
      "И массы могут чувствовать себя одинокими. 0.726 0.685 \n",
      " Станислав Ежи Лец\n",
      "\"Если вы не становитесь самим собой в присутствии любимой, это не любовь. Если ум не перестает полностью функционировать в присутствии любящего или любимой - это не любовь.\" 0.718 0.665 \n",
      " Ошо\n",
      "\"Чем больше милостей женщина дарит мужчине, тем сильнее он ее любит.\" 0.717 0.672 \n",
      " Жан де Лабрюйер\n",
      "--------------------------------------------vs new---------------------------------------------------\n",
      "0.5681637585163116\n",
      "\"«Я большой поклонник мести. Это чувство - одно из тех, в которых мы не хотим признаться даже самим себе, но тайно оно всех нас гложет.»\" 0.67 0.55\n",
      "\"«Я понимал ее, - думал князь Андрей. - Не только понимал, но эту-то душевную силу, эту искренность, эту открытость душевную, эту-то душу ее, которую как будто связывало тело, эту-то душу я и любил в ней… так сильно, так счастливо любил…» -----\" 0.579 0.435\n",
      "\"Рассудок всегда мелочен рядом с чувством … Рассуждать там, где нужно чувствовать свойственно душам ничтожным.\" 0.572 0.596\n",
      "\"«Я, конечно, презираю Отечество мое с головы до ног - но мне досадно, если иностранец разделяет со мною это чувство».\" 0.57 0.496\n",
      "\"Тоска не от недостатка мужиков, а от отсутствия одного любимого.\" 0.569 0.418\n",
      "\"В мужчине заложено чувство ритма, нужно только ему разрешить\" 0.555 0.294\n",
      "\"Я, конечно, презираю отечество мое с головы до ног - но мне досадно, если иностранец разделяет со мной это чувство.\" 0.544 0.556\n",
      "\"Я, конечно, презираю отечество мое с головы до ног, но мне досадно, если иностранец разделяет со мной это чувство.\" 0.542 0.512\n",
      "Бороться за чувство вообще бессмысленно. 0.541 0.49\n",
      "\"Воистину сильные мужчины и женщины часто бывают одиноки, ибо от них веет холодом.\" 0.54 0.172\n"
     ]
    }
   ],
   "source": [
    "Q_NUMBER=10\n",
    "request = request_processing()\n",
    "model_alfa = model_35k_exp \n",
    "model_beta = model\n",
    "\n",
    "sim = model_alfa.dv.most_similar(model_alfa.infer_vector(request, epochs=30), topn=Q_NUMBER)\n",
    "avg, cluster_coefs = cluster_check(sim, df_pure35k, model_alfa)\n",
    "cluster_dict = dict(cluster_coefs)\n",
    "print(avg)\n",
    "for quote in sim:\n",
    "    print(quote_words[quote[0]], round(quote[1], 3), round(cluster_dict[quote[0]], 3), '\\n', df_35k['author'][quote[0]])\n",
    "\n",
    "print(\"--------------------------------------------vs new---------------------------------------------------\")\n",
    "\n",
    "\n",
    "sims = model_beta.dv.most_similar(model_beta.infer_vector(request, epochs=20), topn=Q_NUMBER, restrict_vocab = len(df_pure35k))\n",
    "avg, cluster_coefs = cluster_check(sims, df_35k_short, model_beta)\n",
    "cluster_dict = dict(cluster_coefs)\n",
    "print(avg)\n",
    "for quote in sims:\n",
    "    print(quote_words[quote[0]], round(quote[1], 3), round(cluster_dict[quote[0]], 3))\n"
   ]
  },
  {
   "cell_type": "markdown",
   "id": "7fadd263",
   "metadata": {},
   "source": [
    "#### Далее идут эксперименты по визуализации:"
   ]
  },
  {
   "cell_type": "code",
   "execution_count": 282,
   "id": "7bdb719d",
   "metadata": {},
   "outputs": [],
   "source": [
    "def show_importance(string, model, out=False):\n",
    "    \"\"\"\n",
    "    get the distribution of the importance in the quote\n",
    "    \n",
    "    Parameters\n",
    "    ----------\n",
    "    \n",
    "    string - str, user input.\n",
    "    model - class:`~gensim.models.doc2vec.Doc2Vec.\n",
    "    \n",
    "    Return\n",
    "    ----------\n",
    "    list of the coeffs of the importance correspondig to the tagged representation of the string\n",
    "    \"\"\"\n",
    "    importances = []\n",
    "    \n",
    "    if isinstance(string, str):\n",
    "        tagged = preprocess_text(string).split()\n",
    "    elif isinstance(string, list):\n",
    "        tagged = string\n",
    "        \n",
    "    for word in tagged:\n",
    "        eliminated = [w for w in tagged if w != word]\n",
    "        coef = 1 - model.similarity_unseen_docs(eliminated, tagged, epochs=30)\n",
    "        importances.append(coef)\n",
    "    s = sum(importances)\n",
    "    importance = [np.around(i/s, 3) for i in importances]\n",
    "    if out:\n",
    "        print(*[\"{} {}\".format(tagged[i], importance[i]) for i in range(len(tagged))])\n",
    "    return importance"
   ]
  },
  {
   "cell_type": "code",
   "execution_count": 28,
   "id": "a1189ad2",
   "metadata": {},
   "outputs": [],
   "source": [
    "def print_meaningful(string, model):\n",
    "    \"\"\"\n",
    "    Print input string or meaningful part, inserting correspondig coeffs of the importance\n",
    "    \n",
    "    Parameters\n",
    "    ----------\n",
    "    string - str, user input.\n",
    "    model - class:`~gensim.models.doc2vec.Doc2Vec.\n",
    "    \n",
    "    \"\"\"\n",
    "    tagged = preprocess_text(string).split()\n",
    "    str_words = string.split()\n",
    "    coefs = show_importance(string, model)\n",
    "    result = \"\"\n",
    "    i=0    \n",
    "    for word in str_words:        \n",
    "        tag_word = preprocess_text(word)\n",
    "        if tag_word in tagged:\n",
    "            result +=\" \".join([word, \"({})\".format(coefs[i])])\n",
    "            #print(word, \"({})\".format(coefs[i]), end=' ')\n",
    "            i+=1\n",
    "        else:\n",
    "            result+=\" \"+word+\" \"\n",
    "            #print(word, end=' ')\n",
    "    if i != len(tagged):\n",
    "        print(\"Возникла проблема с печатью текста...\")\n",
    "        print(*[\"{} {}\".format(tagged[i], coefs[i]) for i in range(len(tagged))])\n",
    "    else: \n",
    "        print(result)\n",
    "    print('\\n')"
   ]
  },
  {
   "cell_type": "code",
   "execution_count": 283,
   "id": "39b6e9df",
   "metadata": {
    "scrolled": true
   },
   "outputs": [
    {
     "name": "stdout",
     "output_type": "stream",
     "text": [
      "бывать 0.265 бред 0.129 писать 0.607\n"
     ]
    },
    {
     "data": {
      "text/plain": [
       "[0.265, 0.129, 0.607]"
      ]
     },
     "execution_count": 283,
     "metadata": {},
     "output_type": "execute_result"
    }
   ],
   "source": [
    "s1 = \"бывает и бред пишу\"\n",
    "#s2=\"первая любовь как снег на голову - никогда не думал, что встречу ее так поздно и в лифте\"\n",
    "show_importance(s1, model_35k_exp, True)\n",
    "#show_importance(s2, model, True)"
   ]
  },
  {
   "cell_type": "code",
   "execution_count": 41,
   "id": "64078672",
   "metadata": {},
   "outputs": [
    {
     "data": {
      "text/plain": [
       "'стоить принимать близко сердце посылать жопа'"
      ]
     },
     "execution_count": 41,
     "metadata": {},
     "output_type": "execute_result"
    }
   ],
   "source": [
    "preprocess_text(\"Не стоит принимать близко к сердцу то, что можно послать в жопу...\")"
   ]
  },
  {
   "cell_type": "markdown",
   "id": "dc8ec163",
   "metadata": {},
   "source": [
    "Визуализация значения модуля вектора цитаты, исследование зависимости важности слова от чатсоты вхождения в словарь"
   ]
  },
  {
   "cell_type": "code",
   "execution_count": 333,
   "id": "e9dc5a62",
   "metadata": {},
   "outputs": [
    {
     "data": {
      "text/plain": [
       "(347592, 34483)"
      ]
     },
     "execution_count": 333,
     "metadata": {},
     "output_type": "execute_result"
    }
   ],
   "source": [
    "model1 = gensim.models.doc2vec.Doc2Vec(vector_size=50, min_count=1, window=8, dbow_words=1, negative=5, epochs=30, workers=4, sample=10e-5)\n",
    "\n",
    "model1.build_vocab(quotes_for_training)\n",
    "model1.scan_vocab(quotes_for_training)"
   ]
  },
  {
   "cell_type": "code",
   "execution_count": 344,
   "id": "02b8ed77",
   "metadata": {},
   "outputs": [
    {
     "data": {
      "text/plain": [
       "23589"
      ]
     },
     "execution_count": 344,
     "metadata": {},
     "output_type": "execute_result"
    }
   ],
   "source": [
    "vocab = {k: v for k, v in sorted(model1.raw_vocab.items(), key=lambda item: item[1], reverse=True)}\n",
    "len(vocab)"
   ]
  },
  {
   "cell_type": "code",
   "execution_count": 201,
   "id": "0496e583",
   "metadata": {},
   "outputs": [],
   "source": [
    "import matplotlib.pyplot as plt\n",
    "import random"
   ]
  },
  {
   "cell_type": "code",
   "execution_count": 109,
   "id": "81f793ea",
   "metadata": {
    "scrolled": true
   },
   "outputs": [
    {
     "data": {
      "image/png": "[encoded data removed]",
      "text/plain": [
       "<Figure size 432x288 with 2 Axes>"
      ]
     },
     "metadata": {
      "needs_background": "light"
     },
     "output_type": "display_data"
    }
   ],
   "source": [
    "fig, axs = plt.subplots(1, 2)\n",
    "fig.suptitle('Word frequency descending function')\n",
    "axs[0].plot([i for i in range(len(vocab))], vocab.values(), 'blue')\n",
    "axs[0].axis([0, len(vocab), 0, max(vocab.values())])\n",
    "axs[1].plot([i for i in range(len(vocab))], vocab.values(), 'blue')\n",
    "axs[1].axis([0, len(vocab)/12, 0, max(vocab.values())/3])\n",
    "plt.show()"
   ]
  },
  {
   "cell_type": "code",
   "execution_count": 346,
   "id": "56331aec",
   "metadata": {},
   "outputs": [
    {
     "data": {
      "text/plain": [
       "11.057653952782857"
      ]
     },
     "execution_count": 346,
     "metadata": {},
     "output_type": "execute_result"
    }
   ],
   "source": [
    "vec_mod = [sum(model_35k_exp.dv[i]**2) for i in range(len(model_35k_exp.dv))]\n",
    "#word_occur = []\n",
    "sorted(vec_mod)[len(model_35k_exp.dv)-1]"
   ]
  },
  {
   "cell_type": "code",
   "execution_count": 383,
   "id": "0bc49014",
   "metadata": {},
   "outputs": [],
   "source": [
    "vectors = {i: model_35k_exp.dv[i] for i in range(len(model_35k_exp.dv))}\n",
    "vocab = {k: v for k, v in sorted(model1.raw_vocab.items(), key=lambda item: item[1], reverse=True)}\n",
    "\n",
    "sort_vec_mod = {k: sum(v) for k, v in sorted(vectors.items(), key=lambda item: sum(item[1]))}\n",
    "sort_vec_sqr = {k: sum(v**2) for k, v in sorted(vectors.items(), key=lambda item: sum(item[1]**2))}\n",
    "\n",
    "lengths = [len(quote_words[i].split()) for i in list(sort_vec_sqr)]\n",
    "\n",
    "word_popularity1 = [sum([vocab.get(word, 0) for word in quote_tokens[i]])/len(quote_words[i].split()) for i in list(sort_vec_mod)]\n",
    "word_popularity2 = [sum([vocab.get(word, 0) for word in quote_tokens[i]])/len(quote_words[i].split()) for i in list(sort_vec_sqr)]"
   ]
  },
  {
   "cell_type": "code",
   "execution_count": 384,
   "id": "3d44d7be",
   "metadata": {
    "scrolled": false
   },
   "outputs": [
    {
     "data": {
      "image/png": "[encoded data removed]",
      "text/plain": [
       "<Figure size 720x720 with 2 Axes>"
      ]
     },
     "metadata": {
      "needs_background": "light"
     },
     "output_type": "display_data"
    }
   ],
   "source": [
    "fig, axs = plt.subplots(2,figsize=(10, 10))\n",
    "fig.suptitle('Dependency of the quote norm vs Average word popularity')\n",
    "\n",
    "axs[0].scatter(word_popularity1, sort_vec_mod.values())\n",
    "axs[0].axis([0, max(word_popularity1), -4, 4])\n",
    "axs[0].set(xlabel='Average word popularity', ylabel='Coordinate sum')\n",
    "\n",
    "axs[1].scatter(word_popularity2, sort_vec_sqr.values())\n",
    "axs[1].axis([0, max(word_popularity2), 0, 5])\n",
    "axs[1].set(xlabel='Average word popularity', ylabel='Squared coordinate sum')\n",
    "\n",
    "plt.show()"
   ]
  },
  {
   "cell_type": "code",
   "execution_count": 385,
   "id": "1e4d9d2e",
   "metadata": {
    "scrolled": true
   },
   "outputs": [
    {
     "data": {
      "image/png": "[encoded data removed]",
      "text/plain": [
       "<Figure size 720x720 with 2 Axes>"
      ]
     },
     "metadata": {
      "needs_background": "light"
     },
     "output_type": "display_data"
    }
   ],
   "source": [
    "fig, axs = plt.subplots(2,figsize=(10, 10))\n",
    "fig.suptitle('Popularity vs length')\n",
    "\n",
    "axs[0].scatter(lengths, word_popularity2)\n",
    "axs[0].axis([0, max(lengths), 0, max(word_popularity2)])\n",
    "axs[0].set(xlabel='Quote length', ylabel='Average word popularity')\n",
    "\n",
    "max_pop = max(word_popularity2)\n",
    "axs[0].scatter(lengths, [max_pop/lengths[i] for i in range(len(lengths))])\n",
    "axs[0].axis([0, max(lengths), 0, max(word_popularity2)])\n",
    "\n",
    "axs[1].scatter(lengths, sort_vec_sqr.values())\n",
    "axs[1].axis([0, max(lengths), 0, 6])\n",
    "axs[1].set(xlabel='Quote length', ylabel='Squared coordinate sum')\n",
    "\n",
    "plt.show()"
   ]
  },
  {
   "cell_type": "code",
   "execution_count": 366,
   "id": "4e92e00b",
   "metadata": {},
   "outputs": [],
   "source": [
    "model_no_threshold = gensim.models.doc2vec.Doc2Vec(vector_size=50, min_count=1, window=8, dbow_words=1, negative=5, epochs=30, workers=4)\n",
    "\n",
    "model_no_threshold.build_vocab(quotes_for_training)\n",
    "\n",
    "model_no_threshold.train(quotes_for_training, total_examples=model_no_threshold.corpus_count, epochs=model_no_threshold.epochs)"
   ]
  },
  {
   "cell_type": "code",
   "execution_count": 367,
   "id": "93507cd4",
   "metadata": {},
   "outputs": [],
   "source": [
    "vectors_exp = {i: model_no_threshold.dv[i] for i in range(len(model.dv))}\n",
    "\n",
    "word_popularity3 = [sum([vocab.get(word, 0) for word in quote_tokens[i]]) for i in list(sort_vec_sqr)]\n",
    "sort_vec_sqr_exp = {k: sum(v**2) for k, v in sorted(vectors_exp.items(), key=lambda item: sum(item[1]**2))}\n",
    "\n",
    "word_popularity4 = [sum([vocab.get(word, 0) for word in quote_tokens[i]]) for i in list(sort_vec_sqr_exp)]"
   ]
  },
  {
   "cell_type": "code",
   "execution_count": 378,
   "id": "227da50e",
   "metadata": {},
   "outputs": [
    {
     "data": {
      "image/png": "[encoded data removed]",
      "text/plain": [
       "<Figure size 720x864 with 2 Axes>"
      ]
     },
     "metadata": {
      "needs_background": "light"
     },
     "output_type": "display_data"
    }
   ],
   "source": [
    "fig, axs = plt.subplots(2,figsize=(10, 12))\n",
    "fig.suptitle('Squared quote norm vs words popularity sum')\n",
    "\n",
    "axs[0].scatter(word_popularity3, sort_vec_sqr.values())\n",
    "axs[0].axis([0, max(word_popularity3), 0, 15])\n",
    "axs[0].set(xlabel='Words popularity sum', ylabel='Squred qoute norm')\n",
    "axs[0].set_title(\"model with sample=0.0001\")\n",
    "\n",
    "axs[1].scatter(word_popularity4, sort_vec_sqr_exp.values())\n",
    "axs[1].axis([0, max(word_popularity4), 0, 15])\n",
    "axs[1].set(xlabel='Words popularity sum', ylabel='Squred qoute norm')\n",
    "axs[1].set_title(\"model without sample parameter\")\n",
    "plt.show()"
   ]
  },
  {
   "cell_type": "code",
   "execution_count": 274,
   "id": "bdbe41ba",
   "metadata": {},
   "outputs": [],
   "source": [
    "def diff_pop_imp(vocab, model, number=100):\n",
    "    \"\"\"\n",
    "    Show squared difference between percentages of the relative popularity and the relative importance of words in qoutes\n",
    "    \n",
    "    Parameters\n",
    "    ----------\n",
    "    vocab : dict of (str, int)\n",
    "            Word <-> count mapping.\n",
    "    model : class:`~gensim.models.doc2vec.Doc2Vec`.\n",
    "    \n",
    "    number : \n",
    "    \n",
    "    ----------\n",
    "    \n",
    "    \"\"\"\n",
    "    vec_sample = {i: model.dv[i] for i in random.sample(range(0, len(model.dv)-1), number)}\n",
    "    sort_sqr_sample = {k: sum(v**2) for k, v in sorted(vec_sample.items(), key=lambda item: sum(item[1]**2))}\n",
    "    diff_pop_importance = []\n",
    "    for i in list(sort_sqr_sample):\n",
    "        importance = show_importance(quote_tokens[i], model)\n",
    "        pop_vec = [vocab.get(quote_tokens[i][word_num], 0) for word_num in range(len(quote_tokens[i]))]\n",
    "        sum_pop_vec = sum(pop_vec)\n",
    "        sqr_diff = sum([(pop_vec[i]/sum_pop_vec - importance[i])**2 for i in range(len(quote_tokens[i]))])\n",
    "        diff_pop_importance.append(sqr_diff)\n",
    "    return diff_pop_importance\n"
   ]
  },
  {
   "cell_type": "code",
   "execution_count": 278,
   "id": "f58e1342",
   "metadata": {
    "scrolled": false
   },
   "outputs": [
    {
     "data": {
      "text/plain": [
       "0.29039380376611756"
      ]
     },
     "execution_count": 278,
     "metadata": {},
     "output_type": "execute_result"
    }
   ],
   "source": [
    "mod = model_no_threshold\n",
    "diff = diff_pop_imp(vocab, mod, number=100)\n",
    "sum(diff)/len(diff)"
   ]
  },
  {
   "cell_type": "code",
   "execution_count": 272,
   "id": "807324cd",
   "metadata": {},
   "outputs": [
    {
     "data": {
      "image/png": "[encoded data removed]",
      "text/plain": [
       "<Figure size 720x720 with 2 Axes>"
      ]
     },
     "metadata": {
      "needs_background": "light"
     },
     "output_type": "display_data"
    }
   ],
   "source": [
    "fig, axs = plt.subplots(2,figsize=(10, 10))\n",
    "fig.suptitle('Show squared difference between popularity and importance')\n",
    "\n",
    "axs[0].plot(sort_sqr_sample.values(), diff_pop_importance)\n",
    "axs[0].axis([0, max(sort_sqr_sample.values()), 0, 1])\n",
    "\n",
    "plt.show()"
   ]
  },
  {
   "cell_type": "code",
   "execution_count": 292,
   "id": "00996387",
   "metadata": {},
   "outputs": [
    {
     "name": "stdout",
     "output_type": "stream",
     "text": [
      "1e-07\n",
      "3e-07\n",
      "9e-07\n",
      "2.7e-06\n",
      "8.1e-06\n",
      "2.43e-05\n",
      "7.290000000000001e-05\n",
      "0.00021870000000000003\n",
      "0.0006561000000000001\n",
      "0.0019683\n",
      "0.0059049\n",
      "0.0177147\n",
      "0.0531441\n",
      "0.1594323\n",
      "0.4782969\n",
      "1.4348907\n",
      "4.3046720999999994\n"
     ]
    }
   ],
   "source": [
    "sample = 10e-8\n",
    "rep = 5\n",
    "loggs = []\n",
    "averege_diff = []\n",
    "while sample < 10:\n",
    "    model_no_threshold = gensim.models.doc2vec.Doc2Vec(vector_size=50, min_count=1, window=8, dbow_words=1, negative=5, epochs=30, workers=4, sample=sample)\n",
    "    model_no_threshold.build_vocab(quotes_for_training)\n",
    "    model_no_threshold.train(quotes_for_training, total_examples=model_no_threshold.corpus_count, epochs=model_no_threshold.epochs)\n",
    "    mean_diff = 0\n",
    "    for i in range(rep):\n",
    "        diff = diff_pop_imp(vocab, model_no_threshold, number=100)\n",
    "        loggs.append(diff)\n",
    "        mean_diff += sum(diff)/len(diff)/rep\n",
    "    averege_diff.append(mean_diff)\n",
    "    print(sample)\n",
    "    sample*=3"
   ]
  },
  {
   "cell_type": "code",
   "execution_count": 296,
   "id": "dc224f17",
   "metadata": {},
   "outputs": [],
   "source": [
    "samples = [1e-07, 3e-07,9e-07, 2.7e-06, 8.1e-06, 2.43e-05, 7.290000000000001e-05,0.00021870000000000003,0.0006561000000000001,0.0019683,0.0059049,0.0177147,0.0531441,0.1594323,0.4782969,1.4348907,4.3046720999999994]\n",
    "log_samples = np.log10(samples)"
   ]
  },
  {
   "cell_type": "code",
   "execution_count": 364,
   "id": "80823896",
   "metadata": {},
   "outputs": [
    {
     "data": {
      "image/png": "[encoded data removed]",
      "text/plain": [
       "<Figure size 504x288 with 1 Axes>"
      ]
     },
     "metadata": {
      "needs_background": "light"
     },
     "output_type": "display_data"
    }
   ],
   "source": [
    "fig, axs = plt.subplots(figsize=(7, 4))\n",
    "fig.suptitle('Averege_diff dependency on threshold parameter')\n",
    "\n",
    "axs.scatter(log_samples, averege_diff)\n",
    "axs.axis([log_samples[0], log_samples[-1], 0, 1])\n",
    "\n",
    "plt.show()"
   ]
  },
  {
   "cell_type": "code",
   "execution_count": 482,
   "id": "f173f940",
   "metadata": {},
   "outputs": [
    {
     "data": {
      "image/png": "[encoded data removed]",
      "text/plain": [
       "<Figure size 1440x1440 with 2 Axes>"
      ]
     },
     "metadata": {
      "needs_background": "light"
     },
     "output_type": "display_data"
    }
   ],
   "source": [
    "i = 0\n",
    "diff_per_sample = np.zeros((len(loggs)//rep, len(loggs[0])))\n",
    "log_sqr = np.log(np.array(list(sort_sqr_sample.values())))\n",
    "\n",
    "while i!= len(loggs):\n",
    "    diff_per_sample[i//5] += np.array(loggs[i])/rep\n",
    "    i+=1\n",
    "fig, axs = plt.subplots(2,figsize=(20, 20))\n",
    "fig.suptitle('Show squared difference between popularity and importance')\n",
    "\n",
    "d = 10\n",
    "for sample in range(0, len(loggs)//rep - 2, 4):    \n",
    "    axs[0].scatter(log_sqr, diff_per_sample[sample])\n",
    "    axs[0].axis([0, max(log_sqr), 0, 1])\n",
    "    theta = np.polyfit(log_sqr, diff_per_sample[sample], deg=d)\n",
    "    model = np.poly1d(theta)\n",
    "    axs[0].plot(log_sqr, model(log_sqr))\n",
    "    delta = diff_per_sample[sample] - model(log_sqr)\n",
    "plt.show()\n",
    "\n",
    "    "
   ]
  },
  {
   "cell_type": "code",
   "execution_count": null,
   "id": "5a58c90f",
   "metadata": {},
   "outputs": [],
   "source": []
  }
 ],
 "metadata": {
  "kernelspec": {
   "display_name": "Python 3 (ipykernel)",
   "language": "python",
   "name": "python3"
  },
  "language_info": {
   "codemirror_mode": {
    "name": "ipython",
    "version": 3
   },
   "file_extension": ".py",
   "mimetype": "text/x-python",
   "name": "python",
   "nbconvert_exporter": "python",
   "pygments_lexer": "ipython3",
   "version": "3.8.8"
  }
 },
 "nbformat": 4,
 "nbformat_minor": 5
}
