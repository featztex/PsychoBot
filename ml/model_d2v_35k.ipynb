{
 "cells": [
  {
   "cell_type": "markdown",
   "id": "bfb0ccf5",
   "metadata": {},
   "source": [
    "Doc2vec model with small finetuning built on the dataset of 35k quotes\n"
   ]
  },
  {
   "cell_type": "code",
   "execution_count": 1,
   "id": "37a93a67",
   "metadata": {},
   "outputs": [
    {
     "name": "stderr",
     "output_type": "stream",
     "text": [
      "[nltk_data] Downloading package stopwords to\n",
      "[nltk_data]     C:\\Users\\User\\AppData\\Roaming\\nltk_data...\n",
      "[nltk_data]   Package stopwords is already up-to-date!\n"
     ]
    }
   ],
   "source": [
    "#preprocessing libriaris\n",
    "import nltk\n",
    "nltk.download(\"stopwords\")\n",
    "#stopwords modules\n",
    "from nltk.corpus import stopwords\n",
    "from pymystem3 import Mystem\n",
    "from string import punctuation\n",
    "\n",
    "import pandas as pd\n",
    "import numpy as np\n",
    "import io\n",
    "\n",
    "import gensim"
   ]
  },
  {
   "cell_type": "code",
   "execution_count": 190,
   "id": "a1fe563a",
   "metadata": {},
   "outputs": [],
   "source": [
    "#Create lemmatizer and stopwords list\n",
    "mystem = Mystem() \n",
    "russian_stopwords = stopwords.words(\"russian\")\n",
    "\n",
    "#Preprocess function (stopwords, puncuation, etc)\n",
    "def preprocess_text(text):\n",
    "    tokens = mystem.lemmatize(text.lower())\n",
    "    tokens = [token for token in tokens if token not in russian_stopwords \\\n",
    "              and token not in [\" \",\"\\n\", \"…\"] \\\n",
    "              and all((c not in token.strip()) for c in punctuation)] \n",
    "    text = \" \".join(tokens)\n",
    "    \n",
    "    return text\n"
   ]
  },
  {
   "cell_type": "code",
   "execution_count": 18,
   "id": "0226e51e",
   "metadata": {},
   "outputs": [
    {
     "data": {
      "text/html": [
       "<div>\n",
       "<style scoped>\n",
       "    .dataframe tbody tr th:only-of-type {\n",
       "        vertical-align: middle;\n",
       "    }\n",
       "\n",
       "    .dataframe tbody tr th {\n",
       "        vertical-align: top;\n",
       "    }\n",
       "\n",
       "    .dataframe thead th {\n",
       "        text-align: right;\n",
       "    }\n",
       "</style>\n",
       "<table border=\"1\" class=\"dataframe\">\n",
       "  <thead>\n",
       "    <tr style=\"text-align: right;\">\n",
       "      <th></th>\n",
       "      <th>Unnamed: 0</th>\n",
       "      <th>Unnamed: 0.1</th>\n",
       "      <th>id</th>\n",
       "      <th>citation</th>\n",
       "      <th>author</th>\n",
       "      <th>raw_tags</th>\n",
       "      <th>tags</th>\n",
       "      <th>strlen</th>\n",
       "      <th>num_words</th>\n",
       "    </tr>\n",
       "  </thead>\n",
       "  <tbody>\n",
       "    <tr>\n",
       "      <th>0</th>\n",
       "      <td>0</td>\n",
       "      <td>0</td>\n",
       "      <td>0</td>\n",
       "      <td>Предпочитая быть романтиком  во время тягостны...</td>\n",
       "      <td>Игорь Губерман</td>\n",
       "      <td>['юмор', 'олюбвисулыбкой']</td>\n",
       "      <td>['юмор', 'олюбвисулыбкой']</td>\n",
       "      <td>112</td>\n",
       "      <td>17</td>\n",
       "    </tr>\n",
       "    <tr>\n",
       "      <th>1</th>\n",
       "      <td>1</td>\n",
       "      <td>1</td>\n",
       "      <td>1</td>\n",
       "      <td>Чужую беду ощущая своей, вживаясь в чужие печа...</td>\n",
       "      <td>Игорь Губерман</td>\n",
       "      <td>['ирония', 'стихи']</td>\n",
       "      <td>['ирония', 'стихи']</td>\n",
       "      <td>116</td>\n",
       "      <td>19</td>\n",
       "    </tr>\n",
       "    <tr>\n",
       "      <th>2</th>\n",
       "      <td>2</td>\n",
       "      <td>2</td>\n",
       "      <td>2</td>\n",
       "      <td>Обманчива наша земная стезя, Идешь то туда, то...</td>\n",
       "      <td>Игорь Губерман</td>\n",
       "      <td>['жизнь', 'стихи', 'осознание']</td>\n",
       "      <td>['жизнь', 'стихи', 'осознание']</td>\n",
       "      <td>122</td>\n",
       "      <td>22</td>\n",
       "    </tr>\n",
       "    <tr>\n",
       "      <th>3</th>\n",
       "      <td>3</td>\n",
       "      <td>3</td>\n",
       "      <td>3</td>\n",
       "      <td>Жить, покоем дорожа, — пресно, тускло, просток...</td>\n",
       "      <td>Игорь Губерман</td>\n",
       "      <td>['жизнь', 'стихи', 'душа']</td>\n",
       "      <td>['жизнь', 'стихи', 'душа']</td>\n",
       "      <td>103</td>\n",
       "      <td>15</td>\n",
       "    </tr>\n",
       "    <tr>\n",
       "      <th>4</th>\n",
       "      <td>4</td>\n",
       "      <td>4</td>\n",
       "      <td>4</td>\n",
       "      <td>Все предрассудки прочь отбросив, Но чтоб от Бо...</td>\n",
       "      <td>Игорь Губерман</td>\n",
       "      <td>['стихи', 'предрассудкииразум']</td>\n",
       "      <td>['стихи', 'предрассудкииразум']</td>\n",
       "      <td>111</td>\n",
       "      <td>19</td>\n",
       "    </tr>\n",
       "    <tr>\n",
       "      <th>...</th>\n",
       "      <td>...</td>\n",
       "      <td>...</td>\n",
       "      <td>...</td>\n",
       "      <td>...</td>\n",
       "      <td>...</td>\n",
       "      <td>...</td>\n",
       "      <td>...</td>\n",
       "      <td>...</td>\n",
       "      <td>...</td>\n",
       "    </tr>\n",
       "    <tr>\n",
       "      <th>35004</th>\n",
       "      <td>35004</td>\n",
       "      <td>35004</td>\n",
       "      <td>35004</td>\n",
       "      <td>Каждый имеет в сердце свое «кладбище», куда ни...</td>\n",
       "      <td>Чингиз Абдуллаев</td>\n",
       "      <td>['боль', 'сомнения', 'страхи', 'сердце']</td>\n",
       "      <td>['боль', 'сомнения', 'страхи', 'сердце']</td>\n",
       "      <td>116</td>\n",
       "      <td>20</td>\n",
       "    </tr>\n",
       "    <tr>\n",
       "      <th>35005</th>\n",
       "      <td>35005</td>\n",
       "      <td>35005</td>\n",
       "      <td>35005</td>\n",
       "      <td>Мужчина и женщина равны. Абсолютно равны. Полн...</td>\n",
       "      <td>Чингиз Абдуллаев</td>\n",
       "      <td>['отношения', 'чувства']</td>\n",
       "      <td>['отношения', 'чувства']</td>\n",
       "      <td>177</td>\n",
       "      <td>29</td>\n",
       "    </tr>\n",
       "    <tr>\n",
       "      <th>35006</th>\n",
       "      <td>35006</td>\n",
       "      <td>35006</td>\n",
       "      <td>35006</td>\n",
       "      <td>Для женщины важен сам факт, что ей хотят сдела...</td>\n",
       "      <td>Чингиз Абдуллаев</td>\n",
       "      <td>['отношения', 'цитаты']</td>\n",
       "      <td>['отношения', 'цитаты']</td>\n",
       "      <td>164</td>\n",
       "      <td>28</td>\n",
       "    </tr>\n",
       "    <tr>\n",
       "      <th>35007</th>\n",
       "      <td>35007</td>\n",
       "      <td>35007</td>\n",
       "      <td>35007</td>\n",
       "      <td>Для мужчины нормально, если он защищает женщин...</td>\n",
       "      <td>Чингиз Абдуллаев</td>\n",
       "      <td>['жизнь', 'женщины', 'мужчина']</td>\n",
       "      <td>['жизнь', 'женщины', 'мужчина']</td>\n",
       "      <td>248</td>\n",
       "      <td>37</td>\n",
       "    </tr>\n",
       "    <tr>\n",
       "      <th>35008</th>\n",
       "      <td>35008</td>\n",
       "      <td>35008</td>\n",
       "      <td>35008</td>\n",
       "      <td>Необязательно спать с человеком, чтобы чувство...</td>\n",
       "      <td>Чингиз Абдуллаев</td>\n",
       "      <td>['духовность', 'близкие']</td>\n",
       "      <td>['духовность', 'близкие']</td>\n",
       "      <td>116</td>\n",
       "      <td>15</td>\n",
       "    </tr>\n",
       "  </tbody>\n",
       "</table>\n",
       "<p>35009 rows × 9 columns</p>\n",
       "</div>"
      ],
      "text/plain": [
       "       Unnamed: 0  Unnamed: 0.1     id  \\\n",
       "0               0             0      0   \n",
       "1               1             1      1   \n",
       "2               2             2      2   \n",
       "3               3             3      3   \n",
       "4               4             4      4   \n",
       "...           ...           ...    ...   \n",
       "35004       35004         35004  35004   \n",
       "35005       35005         35005  35005   \n",
       "35006       35006         35006  35006   \n",
       "35007       35007         35007  35007   \n",
       "35008       35008         35008  35008   \n",
       "\n",
       "                                                citation            author  \\\n",
       "0      Предпочитая быть романтиком  во время тягостны...    Игорь Губерман   \n",
       "1      Чужую беду ощущая своей, вживаясь в чужие печа...    Игорь Губерман   \n",
       "2      Обманчива наша земная стезя, Идешь то туда, то...    Игорь Губерман   \n",
       "3      Жить, покоем дорожа, — пресно, тускло, просток...    Игорь Губерман   \n",
       "4      Все предрассудки прочь отбросив, Но чтоб от Бо...    Игорь Губерман   \n",
       "...                                                  ...               ...   \n",
       "35004  Каждый имеет в сердце свое «кладбище», куда ни...  Чингиз Абдуллаев   \n",
       "35005  Мужчина и женщина равны. Абсолютно равны. Полн...  Чингиз Абдуллаев   \n",
       "35006  Для женщины важен сам факт, что ей хотят сдела...  Чингиз Абдуллаев   \n",
       "35007  Для мужчины нормально, если он защищает женщин...  Чингиз Абдуллаев   \n",
       "35008  Необязательно спать с человеком, чтобы чувство...  Чингиз Абдуллаев   \n",
       "\n",
       "                                       raw_tags  \\\n",
       "0                    ['юмор', 'олюбвисулыбкой']   \n",
       "1                           ['ирония', 'стихи']   \n",
       "2               ['жизнь', 'стихи', 'осознание']   \n",
       "3                    ['жизнь', 'стихи', 'душа']   \n",
       "4               ['стихи', 'предрассудкииразум']   \n",
       "...                                         ...   \n",
       "35004  ['боль', 'сомнения', 'страхи', 'сердце']   \n",
       "35005                  ['отношения', 'чувства']   \n",
       "35006                   ['отношения', 'цитаты']   \n",
       "35007           ['жизнь', 'женщины', 'мужчина']   \n",
       "35008                 ['духовность', 'близкие']   \n",
       "\n",
       "                                           tags  strlen  num_words  \n",
       "0                    ['юмор', 'олюбвисулыбкой']     112         17  \n",
       "1                           ['ирония', 'стихи']     116         19  \n",
       "2               ['жизнь', 'стихи', 'осознание']     122         22  \n",
       "3                    ['жизнь', 'стихи', 'душа']     103         15  \n",
       "4               ['стихи', 'предрассудкииразум']     111         19  \n",
       "...                                         ...     ...        ...  \n",
       "35004  ['боль', 'сомнения', 'страхи', 'сердце']     116         20  \n",
       "35005                  ['отношения', 'чувства']     177         29  \n",
       "35006                   ['отношения', 'цитаты']     164         28  \n",
       "35007           ['жизнь', 'женщины', 'мужчина']     248         37  \n",
       "35008                 ['духовность', 'близкие']     116         15  \n",
       "\n",
       "[35009 rows x 9 columns]"
      ]
     },
     "execution_count": 18,
     "metadata": {},
     "output_type": "execute_result"
    }
   ],
   "source": [
    "#loading dataset\n",
    "qoutes_path = '../parsing/data/big_data.csv'\n",
    "\n",
    "df_35k = pd.read_csv(qoutes_path, sep=',', engine ='python') #reading quotes to the dataframe\n",
    "#with open(qoute_path, 'r', encoding='utf-8') as file:\n",
    "#    data = file.read().replace('\\n', ' nextquote ')\n",
    "#    processed_data = preprocess_text(data)  #preprocessing qoutes\n",
    "#dataframe with quotes and their processed versions\n",
    "#df.insert(loc=1, column=\"processed_quotes\", value=processed_data.split('nextquote')[:-1], allow_duplicates=False) \n",
    "df_35k"
   ]
  },
  {
   "cell_type": "code",
   "execution_count": 191,
   "id": "b88cb5c3",
   "metadata": {},
   "outputs": [
    {
     "data": {
      "text/html": [
       "<div>\n",
       "<style scoped>\n",
       "    .dataframe tbody tr th:only-of-type {\n",
       "        vertical-align: middle;\n",
       "    }\n",
       "\n",
       "    .dataframe tbody tr th {\n",
       "        vertical-align: top;\n",
       "    }\n",
       "\n",
       "    .dataframe thead th {\n",
       "        text-align: right;\n",
       "    }\n",
       "</style>\n",
       "<table border=\"1\" class=\"dataframe\">\n",
       "  <thead>\n",
       "    <tr style=\"text-align: right;\">\n",
       "      <th></th>\n",
       "      <th>quote</th>\n",
       "      <th>processed_quote</th>\n",
       "    </tr>\n",
       "  </thead>\n",
       "  <tbody>\n",
       "    <tr>\n",
       "      <th>0</th>\n",
       "      <td>\"Предпочитая быть романтиком  во время тягостн...</td>\n",
       "      <td>предпочитать романтик    время тягостный реше...</td>\n",
       "    </tr>\n",
       "    <tr>\n",
       "      <th>1</th>\n",
       "      <td>\"Чужую беду ощущая своей, вживаясь в чужие печ...</td>\n",
       "      <td>чужой беда ощущать свой вживаться чужой печал...</td>\n",
       "    </tr>\n",
       "    <tr>\n",
       "      <th>2</th>\n",
       "      <td>\"Обманчива наша земная стезя, Идешь то туда, т...</td>\n",
       "      <td>обманчивый наш земной стезя идти туда обратно...</td>\n",
       "    </tr>\n",
       "    <tr>\n",
       "      <th>3</th>\n",
       "      <td>\"Жить, покоем дорожа, — пресно, тускло, просто...</td>\n",
       "      <td>жить покой дорожить пресный тускло простокваш...</td>\n",
       "    </tr>\n",
       "    <tr>\n",
       "      <th>4</th>\n",
       "      <td>\"Все предрассудки прочь отбросив, Но чтоб от Б...</td>\n",
       "      <td>весь предрассудок прочь отбрасывать бог секре...</td>\n",
       "    </tr>\n",
       "    <tr>\n",
       "      <th>...</th>\n",
       "      <td>...</td>\n",
       "      <td>...</td>\n",
       "    </tr>\n",
       "    <tr>\n",
       "      <th>35004</th>\n",
       "      <td>\"Каждый имеет в сердце свое «кладбище», куда н...</td>\n",
       "      <td>каждый иметь сердце свой  « кладбище никто пу...</td>\n",
       "    </tr>\n",
       "    <tr>\n",
       "      <th>35005</th>\n",
       "      <td>\"Мужчина и женщина равны. Абсолютно равны. Пол...</td>\n",
       "      <td>мужчина женщина равный абсолютно равный полно...</td>\n",
       "    </tr>\n",
       "    <tr>\n",
       "      <th>35006</th>\n",
       "      <td>\"Для женщины важен сам факт, что ей хотят сдел...</td>\n",
       "      <td>женщина важный факт хотеть сделать приятный м...</td>\n",
       "    </tr>\n",
       "    <tr>\n",
       "      <th>35007</th>\n",
       "      <td>\"Для мужчины нормально, если он защищает женщи...</td>\n",
       "      <td>мужчина нормально защищать женщина любить всп...</td>\n",
       "    </tr>\n",
       "    <tr>\n",
       "      <th>35008</th>\n",
       "      <td>\"Необязательно спать с человеком, чтобы чувств...</td>\n",
       "      <td>необязательно спать человек чувствовать духов...</td>\n",
       "    </tr>\n",
       "  </tbody>\n",
       "</table>\n",
       "<p>35009 rows × 2 columns</p>\n",
       "</div>"
      ],
      "text/plain": [
       "                                                   quote  \\\n",
       "0      \"Предпочитая быть романтиком  во время тягостн...   \n",
       "1      \"Чужую беду ощущая своей, вживаясь в чужие печ...   \n",
       "2      \"Обманчива наша земная стезя, Идешь то туда, т...   \n",
       "3      \"Жить, покоем дорожа, — пресно, тускло, просто...   \n",
       "4      \"Все предрассудки прочь отбросив, Но чтоб от Б...   \n",
       "...                                                  ...   \n",
       "35004  \"Каждый имеет в сердце свое «кладбище», куда н...   \n",
       "35005  \"Мужчина и женщина равны. Абсолютно равны. Пол...   \n",
       "35006  \"Для женщины важен сам факт, что ей хотят сдел...   \n",
       "35007  \"Для мужчины нормально, если он защищает женщи...   \n",
       "35008  \"Необязательно спать с человеком, чтобы чувств...   \n",
       "\n",
       "                                         processed_quote  \n",
       "0       предпочитать романтик    время тягостный реше...  \n",
       "1       чужой беда ощущать свой вживаться чужой печал...  \n",
       "2       обманчивый наш земной стезя идти туда обратно...  \n",
       "3       жить покой дорожить пресный тускло простокваш...  \n",
       "4       весь предрассудок прочь отбрасывать бог секре...  \n",
       "...                                                  ...  \n",
       "35004   каждый иметь сердце свой  « кладбище никто пу...  \n",
       "35005   мужчина женщина равный абсолютно равный полно...  \n",
       "35006   женщина важный факт хотеть сделать приятный м...  \n",
       "35007   мужчина нормально защищать женщина любить всп...  \n",
       "35008   необязательно спать человек чувствовать духов...  \n",
       "\n",
       "[35009 rows x 2 columns]"
      ]
     },
     "execution_count": 191,
     "metadata": {},
     "output_type": "execute_result"
    }
   ],
   "source": [
    "df_35k.rename(columns={'citation': 'quote'}, inplace=True)\n",
    "df_35k['quote'].to_csv('processed_data/pure_q_35k.csv', index=False)\n",
    "df = pd.read_csv('processed_data/pure_q_35k.csv', sep='<\\d*>', engine ='python') #reading quotes to the dataframe\n",
    "with open('processed_data/pure_q_35k.csv', 'r', encoding='utf-8') as file:\n",
    "    data = file.read().replace('\\n', ' nextquote ')\n",
    "    processed_data = preprocess_text(data)  #preprocessing qoutes\n",
    "#dataframe with quotes and their processed versions\n",
    "df.insert(loc=1, column='processed_quote', value=processed_data.split('nextquote')[1:-1], allow_duplicates=False) \n",
    "df"
   ]
  },
  {
   "cell_type": "code",
   "execution_count": 192,
   "id": "5f598c67",
   "metadata": {},
   "outputs": [],
   "source": [
    "df.to_csv('processed_data/pure_q_35k.csv', index=False)"
   ]
  },
  {
   "cell_type": "code",
   "execution_count": 193,
   "id": "c6dd941d",
   "metadata": {},
   "outputs": [
    {
     "data": {
      "text/html": [
       "<div>\n",
       "<style scoped>\n",
       "    .dataframe tbody tr th:only-of-type {\n",
       "        vertical-align: middle;\n",
       "    }\n",
       "\n",
       "    .dataframe tbody tr th {\n",
       "        vertical-align: top;\n",
       "    }\n",
       "\n",
       "    .dataframe thead th {\n",
       "        text-align: right;\n",
       "    }\n",
       "</style>\n",
       "<table border=\"1\" class=\"dataframe\">\n",
       "  <thead>\n",
       "    <tr style=\"text-align: right;\">\n",
       "      <th></th>\n",
       "      <th>quote</th>\n",
       "      <th>processed_quote</th>\n",
       "    </tr>\n",
       "  </thead>\n",
       "  <tbody>\n",
       "    <tr>\n",
       "      <th>0</th>\n",
       "      <td>\"Предпочитая быть романтиком  во время тягостн...</td>\n",
       "      <td>предпочитать романтик    время тягостный реше...</td>\n",
       "    </tr>\n",
       "    <tr>\n",
       "      <th>1</th>\n",
       "      <td>\"Чужую беду ощущая своей, вживаясь в чужие печ...</td>\n",
       "      <td>чужой беда ощущать свой вживаться чужой печал...</td>\n",
       "    </tr>\n",
       "    <tr>\n",
       "      <th>2</th>\n",
       "      <td>\"Обманчива наша земная стезя, Идешь то туда, т...</td>\n",
       "      <td>обманчивый наш земной стезя идти туда обратно...</td>\n",
       "    </tr>\n",
       "    <tr>\n",
       "      <th>3</th>\n",
       "      <td>\"Жить, покоем дорожа, — пресно, тускло, просто...</td>\n",
       "      <td>жить покой дорожить пресный тускло простокваш...</td>\n",
       "    </tr>\n",
       "    <tr>\n",
       "      <th>4</th>\n",
       "      <td>\"Все предрассудки прочь отбросив, Но чтоб от Б...</td>\n",
       "      <td>весь предрассудок прочь отбрасывать бог секре...</td>\n",
       "    </tr>\n",
       "    <tr>\n",
       "      <th>...</th>\n",
       "      <td>...</td>\n",
       "      <td>...</td>\n",
       "    </tr>\n",
       "    <tr>\n",
       "      <th>35004</th>\n",
       "      <td>\"Каждый имеет в сердце свое «кладбище», куда н...</td>\n",
       "      <td>каждый иметь сердце свой  « кладбище никто пу...</td>\n",
       "    </tr>\n",
       "    <tr>\n",
       "      <th>35005</th>\n",
       "      <td>\"Мужчина и женщина равны. Абсолютно равны. Пол...</td>\n",
       "      <td>мужчина женщина равный абсолютно равный полно...</td>\n",
       "    </tr>\n",
       "    <tr>\n",
       "      <th>35006</th>\n",
       "      <td>\"Для женщины важен сам факт, что ей хотят сдел...</td>\n",
       "      <td>женщина важный факт хотеть сделать приятный м...</td>\n",
       "    </tr>\n",
       "    <tr>\n",
       "      <th>35007</th>\n",
       "      <td>\"Для мужчины нормально, если он защищает женщи...</td>\n",
       "      <td>мужчина нормально защищать женщина любить всп...</td>\n",
       "    </tr>\n",
       "    <tr>\n",
       "      <th>35008</th>\n",
       "      <td>\"Необязательно спать с человеком, чтобы чувств...</td>\n",
       "      <td>необязательно спать человек чувствовать духов...</td>\n",
       "    </tr>\n",
       "  </tbody>\n",
       "</table>\n",
       "<p>35009 rows × 2 columns</p>\n",
       "</div>"
      ],
      "text/plain": [
       "                                                   quote  \\\n",
       "0      \"Предпочитая быть романтиком  во время тягостн...   \n",
       "1      \"Чужую беду ощущая своей, вживаясь в чужие печ...   \n",
       "2      \"Обманчива наша земная стезя, Идешь то туда, т...   \n",
       "3      \"Жить, покоем дорожа, — пресно, тускло, просто...   \n",
       "4      \"Все предрассудки прочь отбросив, Но чтоб от Б...   \n",
       "...                                                  ...   \n",
       "35004  \"Каждый имеет в сердце свое «кладбище», куда н...   \n",
       "35005  \"Мужчина и женщина равны. Абсолютно равны. Пол...   \n",
       "35006  \"Для женщины важен сам факт, что ей хотят сдел...   \n",
       "35007  \"Для мужчины нормально, если он защищает женщи...   \n",
       "35008  \"Необязательно спать с человеком, чтобы чувств...   \n",
       "\n",
       "                                         processed_quote  \n",
       "0       предпочитать романтик    время тягостный реше...  \n",
       "1       чужой беда ощущать свой вживаться чужой печал...  \n",
       "2       обманчивый наш земной стезя идти туда обратно...  \n",
       "3       жить покой дорожить пресный тускло простокваш...  \n",
       "4       весь предрассудок прочь отбрасывать бог секре...  \n",
       "...                                                  ...  \n",
       "35004   каждый иметь сердце свой  « кладбище никто пу...  \n",
       "35005   мужчина женщина равный абсолютно равный полно...  \n",
       "35006   женщина важный факт хотеть сделать приятный м...  \n",
       "35007   мужчина нормально защищать женщина любить всп...  \n",
       "35008   необязательно спать человек чувствовать духов...  \n",
       "\n",
       "[35009 rows x 2 columns]"
      ]
     },
     "execution_count": 193,
     "metadata": {},
     "output_type": "execute_result"
    }
   ],
   "source": [
    "df_pure35k = pd.read_csv('processed_data/pure_q_35k.csv', sep=',', engine ='python')\n",
    "df_pure35k"
   ]
  },
  {
   "cell_type": "code",
   "execution_count": 194,
   "id": "1bfeda15",
   "metadata": {},
   "outputs": [],
   "source": [
    "quote_tokens = [q.split() for q in df_pure35k['processed_quote'].values.tolist()]\n",
    "quote_words = [q for q in df_pure35k['quote'].values.tolist()]"
   ]
  },
  {
   "cell_type": "code",
   "execution_count": 195,
   "id": "30b3647f",
   "metadata": {},
   "outputs": [],
   "source": [
    "#preparing data for doc2vec\n",
    "def tagged_document(list_of_list_of_words):\n",
    "    for i, list_of_words in enumerate(list_of_list_of_words):\n",
    "        yield gensim.models.doc2vec.TaggedDocument(list_of_words, [i])\n",
    "quotes_for_training = list(tagged_document(quote_tokens))"
   ]
  },
  {
   "cell_type": "code",
   "execution_count": 196,
   "id": "f3aadc92",
   "metadata": {},
   "outputs": [],
   "source": [
    "#buiding a model\n",
    "#model = gensim.models.doc2vec.Doc2Vec(vector_size=50, dm=1, window=4, min_count=1, negative=5, epochs=30, workers=4)\n",
    "model = gensim.models.doc2vec.Doc2Vec(vector_size=50, min_count=2, window=8, epochs=30, workers=4)\n",
    "\n",
    "model.build_vocab(quotes_for_training)\n",
    "#model.intersect_word2vec_format('ruscorpora_mean_hs.model.bin', binary=True)\n",
    "model.train(quotes_for_training, total_examples=model.corpus_count, epochs=model.epochs)"
   ]
  },
  {
   "cell_type": "code",
   "execution_count": 53,
   "id": "257e499a",
   "metadata": {},
   "outputs": [],
   "source": [
    "model.save('models/d2v_35k_exp.model')"
   ]
  },
  {
   "cell_type": "code",
   "execution_count": 54,
   "id": "5f6176d3",
   "metadata": {},
   "outputs": [],
   "source": [
    "model_35k_exp = gensim.models.doc2vec.Doc2Vec.load('models/d2v_35k_exp.model')"
   ]
  },
  {
   "cell_type": "code",
   "execution_count": 8,
   "id": "5bae685a",
   "metadata": {},
   "outputs": [],
   "source": [
    "#request handling\n",
    "def request_processing():\n",
    "    request = preprocess_text(input()).split()\n",
    "    return request"
   ]
  },
  {
   "cell_type": "code",
   "execution_count": 14,
   "id": "5c1b66e4",
   "metadata": {},
   "outputs": [],
   "source": [
    "def cluster_check(sim, df, model):\n",
    "    avg = sum([sim_coef for docid, sim_coef in sim])/len(sim)\n",
    "    cluster_coef=[]\n",
    "    for q in sim:\n",
    "        q_sim = model.dv.most_similar(model.infer_vector(df['processed_quote'][q[0]].split()), topn=len(df))\n",
    "        q_dict = {}\n",
    "        q_dict = dict(q_sim)\n",
    "        q_sim_sim = [q_dict[docid] for docid, sim_coef in sim if docid != q[0]]\n",
    "        cluster_coef.append((q[0],sum(q_sim_sim)/len(q_sim_sim)))\n",
    "    return avg, cluster_coef"
   ]
  },
  {
   "cell_type": "code",
   "execution_count": 171,
   "id": "c622ad18",
   "metadata": {},
   "outputs": [
    {
     "name": "stdout",
     "output_type": "stream",
     "text": [
      "я как человек познавший отчаяние, сижу перед лицом вечности, уставив взор в бесконечное наблюдая за неспешным происходящим и жду перемен\n",
      "0.44809025526046753\n",
      "Решать. Меняться. Стремиться вперед. Мыслить. Принимать вызовы. Вставать и действовать. Отказываться от стереотипов. Достигать. Мечтать. Открывать. Верить. Останавливаться. Слушать себя. Расти. Побеждать. Смотреть на жизнь открытыми глазами. 0.496 0.254 \n",
      " Пауло Коэльо\n",
      "\"Закрыла глаза и стала терпеливо ждать. Звонка в дверь, приятных сновидений, а может, любви…\" 0.468 0.063 \n",
      " Януш Леон Вишневский\n",
      "\"Не стоит принимать близко к сердцу то, что можно послать в жопу…\" 0.465 0.213 \n",
      " Фаина Раневская\n",
      "\"В счастье все повторяется: те же формы удовольствия, повторенные множество раз, становятся бессмысленными.\" 0.451 0.287 \n",
      " Ошо\n",
      "\"Когда человек, как это говорится, «ищет себя», он на самом деле ищет, куда бы от себя спрятаться. От себя, от окружающей действительности! Вот и бегут.\" 0.438 0.179 \n",
      " Евгений Лукин\n",
      "\"Зима-самое время пустить любовь в дом, чтобы согреться. Главное вовремя открыть сердце.\" 0.436 0.272 \n",
      " Ринат Валиуллин\n",
      "Гляди жизни прямо в ее железное лицо и не бойся жестокой действительности. 0.435 0.191 \n",
      " Шарлотта Бронте\n",
      "\"Жизнь - это поток, это река: ее настроения постоянно меняются.\" 0.433 0.229 \n",
      " Ошо\n",
      "\"Трюк в том, чтобы уметь вновь и вновь заново открывать друг друга, наблюдать за происходящими изменениями, видеть какими мы становимся. Другими словами, не ждать, что все останется неизменным, а быть готовым к тому, что в любой момент, любимый человек может нас удивить\" 0.43 0.269 \n",
      " Хорхе Букай\n",
      "\"Зная, что глухая ждет нас бездна, и что путь мы не переиначим, и про это плакать бесполезно -  мы как раз поэтому и плачем.\" 0.429 0.23 \n",
      " Игорь Губерман\n",
      "--------------------------------------------vs old---------------------------------------------------\n",
      "0.4364925861358643\n",
      "- Кто Вы? - Я - Синяя Гусеница. - А что Вы здесь делаете? - Сижу. Курю. Жду перемен. 0.489 0.232\n",
      "\"Для каждого человека все происходит так, как будто взоры всего человечества обращены к нему.\" 0.483 0.2\n",
      "\"От того, что ты за человек и откуда смотришь, зависит, что ты увидишь и услышишь!\" 0.438 0.209\n",
      "\"Он снова уверял себя, что нужно поставить точку, и этот внутренний спор длился до бесконечности.\" 0.431 0.109\n",
      "Гляди жизни прямо в ее железное лицо и не бойся жестокой действительности. 0.429 0.146\n",
      "\"Ничего уже не будет так, как обычно. Можно склеить осколки, но если ты сделал это сам, то в глубине души всегда будешь знать, что вещь уже не целая.\" 0.424 0.175\n",
      "\"Ваши жалобы на истеричку-погоду понимаю, - сама являюсь жертвой климакса нашей планеты. Здесь в мае падал снег, потом была жара, потом наступили холода, затем все это происходило в течение дня.\" 0.421 0.145\n",
      "\"Каждый хочет жить на вершине горы, но все счастье, все развитие происходит пока ты туда взбираешься\" 0.421 0.222\n",
      "\"Нет ничего хуже, чем разведывать о чужих грехах, выводить их наружу. От болтливости произошло бесчисленное множество зла;расстроились семейства, разорвались узы дружбы, произошли тысячи других бедствий\" 0.414 0.181\n",
      "\"Жизнь - это поток, это река: ее настроения постоянно меняются.\" 0.414 0.239\n"
     ]
    }
   ],
   "source": [
    "Q_NUMBER=10\n",
    "request = request_processing()\n",
    "\n",
    "sim = model.dv.most_similar(model.infer_vector(request, epochs=30), topn=Q_NUMBER)\n",
    "avg, cluster_coefs = cluster_check(sim, df_pure35k, model)\n",
    "cluster_dict = dict(cluster_coefs)\n",
    "print(avg)\n",
    "for quote in sim:\n",
    "    print(quote_words[quote[0]], round(quote[1], 3), round(cluster_dict[quote[0]], 3), '\\n', df_35k['author'][quote[0]])\n",
    "\n",
    "print(\"--------------------------------------------vs old---------------------------------------------------\")\n",
    "\n",
    "\n",
    "sims = model_35k_exp.dv.most_similar(model_35k_exp.infer_vector(request), topn=Q_NUMBER)\n",
    "avg, cluster_coefs = cluster_check(sims, df_pure35k, model_35k_exp)\n",
    "cluster_dict = dict(cluster_coefs)\n",
    "print(avg)\n",
    "for quote in sims:\n",
    "    print(quote_words[quote[0]], round(quote[1], 3), round(cluster_dict[quote[0]], 3))\n"
   ]
  },
  {
   "cell_type": "code",
   "execution_count": 169,
   "id": "634c353f",
   "metadata": {},
   "outputs": [
    {
     "data": {
      "text/plain": [
       "-0.018196565593825653"
      ]
     },
     "execution_count": 169,
     "metadata": {},
     "output_type": "execute_result"
    }
   ],
   "source": [
    "sum(model.infer_vector(['радость любовь разлука печаль'], epochs=30))"
   ]
  },
  {
   "cell_type": "code",
   "execution_count": 203,
   "id": "64bb1aee",
   "metadata": {},
   "outputs": [],
   "source": [
    "def show_importance(string, model):\n",
    "    \"\"\"\n",
    "    string - str, user input,\n",
    "    model - class:`~gensim.models.doc2vec.Doc2Vec,\n",
    "    \n",
    "    return:\n",
    "    list of the coeffs of the importance correspondig to the tagged representation of the string\n",
    "    \"\"\"\n",
    "    tagged = preprocess_text(string).split()\n",
    "    importance = []\n",
    "    for word in tagged:\n",
    "        eliminated = [w for w in tagged if w != word]\n",
    "        coef = 1 - model.similarity_unseen_docs(eliminated, tagged, epochs=30)\n",
    "        importance.append(coef)\n",
    "    s = sum(importance)\n",
    "    importance = np.around(importance/s, 3)\n",
    "    return importance"
   ]
  },
  {
   "cell_type": "code",
   "execution_count": 222,
   "id": "5740f889",
   "metadata": {},
   "outputs": [],
   "source": [
    "def print_meaningful(string, model):\n",
    "    \"\"\"\n",
    "    Caution, works inproperly!\n",
    "    \n",
    "    string - str, user input,\n",
    "    model - class:`~gensim.models.doc2vec.Doc2Vec,\n",
    "    \n",
    "    printing:\n",
    "    string inserting correspondig coeffs of the importance\n",
    "    \"\"\"\n",
    "    tagged = preprocess_text(string).split()\n",
    "    str_words = string.split()\n",
    "    coefs = show_importance(string, model)\n",
    "    result = \"\"\n",
    "    i=0    \n",
    "    for word in str_words:        \n",
    "        tag_word = preprocess_text(word)\n",
    "        if tag_word in tagged:\n",
    "            result +=\" \".join([word, \"({})\".format(coefs[i])])\n",
    "            #print(word, \"({})\".format(coefs[i]), end=' ')\n",
    "            i+=1\n",
    "        else:\n",
    "            result+=\" \"+word+\" \"\n",
    "            #print(word, end=' ')\n",
    "    if i != len(tagged):\n",
    "        print(\"Возникла проблема с печатью текста...\")\n",
    "        print(*[\"{} {}\".format(tagged[i], coefs[i]) for i in range(len(tagged))])\n",
    "    else: \n",
    "        print(result)\n",
    "    print('\\n')"
   ]
  },
  {
   "cell_type": "code",
   "execution_count": 223,
   "id": "9823dd88",
   "metadata": {},
   "outputs": [
    {
     "name": "stdout",
     "output_type": "stream",
     "text": [
      "жизнь (0.214) на  то  и жизнь, (0.367) а  не жопа (0.418)\n",
      "\n",
      "\n"
     ]
    }
   ],
   "source": [
    "print_meaningful(\"жизнь на то и жизнь, а не жопа\", model)"
   ]
  },
  {
   "cell_type": "code",
   "execution_count": 199,
   "id": "4db00232",
   "metadata": {},
   "outputs": [
    {
     "data": {
      "text/plain": [
       "-8.485528010874987"
      ]
     },
     "execution_count": 199,
     "metadata": {},
     "output_type": "execute_result"
    }
   ],
   "source": [
    "sum(model['жопа'])"
   ]
  },
  {
   "cell_type": "code",
   "execution_count": 202,
   "id": "bfc59bfe",
   "metadata": {},
   "outputs": [
    {
     "data": {
      "text/plain": [
       "-0.23232788732275367"
      ]
     },
     "execution_count": 202,
     "metadata": {},
     "output_type": "execute_result"
    }
   ],
   "source": [
    "sum(model[\"сиська\"])"
   ]
  },
  {
   "cell_type": "code",
   "execution_count": 206,
   "id": "b6a34f16",
   "metadata": {},
   "outputs": [
    {
     "data": {
      "text/plain": [
       "array([0.146, 0.054, 0.029, 0.045, 0.153, 0.573])"
      ]
     },
     "execution_count": 206,
     "metadata": {},
     "output_type": "execute_result"
    }
   ],
   "source": [
    "show_importance(\"Не стоит принимать близко к сердцу то, что можно послать в жопу...\", model)"
   ]
  },
  {
   "cell_type": "code",
   "execution_count": 207,
   "id": "d7af5064",
   "metadata": {},
   "outputs": [
    {
     "data": {
      "text/plain": [
       "'стоить принимать близко сердце посылать жопа'"
      ]
     },
     "execution_count": 207,
     "metadata": {},
     "output_type": "execute_result"
    }
   ],
   "source": [
    "preprocess_text(\"Не стоит принимать близко к сердцу то, что можно послать в жопу...\")"
   ]
  },
  {
   "cell_type": "code",
   "execution_count": null,
   "id": "876054a2",
   "metadata": {},
   "outputs": [],
   "source": []
  }
 ],
 "metadata": {
  "kernelspec": {
   "display_name": "Python 3 (ipykernel)",
   "language": "python",
   "name": "python3"
  },
  "language_info": {
   "codemirror_mode": {
    "name": "ipython",
    "version": 3
   },
   "file_extension": ".py",
   "mimetype": "text/x-python",
   "name": "python",
   "nbconvert_exporter": "python",
   "pygments_lexer": "ipython3",
   "version": "3.8.8"
  }
 },
 "nbformat": 4,
 "nbformat_minor": 5
}
