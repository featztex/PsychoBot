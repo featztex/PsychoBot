{
  "nbformat": 4,
  "nbformat_minor": 0,
  "metadata": {
    "colab": {
      "name": "new_features.ipynb",
      "provenance": []
    },
    "kernelspec": {
      "name": "python3",
      "display_name": "Python 3"
    },
    "language_info": {
      "name": "python"
    }
  },
  "cells": [
    {
      "cell_type": "code",
      "execution_count": 22,
      "metadata": {
        "id": "Rxgqu3NrZf7T"
      },
      "outputs": [],
      "source": [
        "import pandas as pd\n",
        "import re\n",
        "import pickle"
      ]
    },
    {
      "cell_type": "code",
      "source": [
        "# приведем столбец с тегами в порядок\n",
        "def transform(str):\n",
        "    l = re.sub(\"[\\[\\]\\']\", \"\", str).split(',')\n",
        "    for i in range(0, len(l)):\n",
        "        l[i] = l[i].strip()\n",
        "    return l"
      ],
      "metadata": {
        "id": "h33iXqS2ZuNq"
      },
      "execution_count": 23,
      "outputs": []
    },
    {
      "cell_type": "code",
      "source": [
        "df = pd.read_csv('big_data.csv') "
      ],
      "metadata": {
        "id": "jd5Uig72Z6xL"
      },
      "execution_count": 25,
      "outputs": []
    },
    {
      "cell_type": "code",
      "source": [
        "df.drop(df.columns[[0]], axis=1, inplace=True)\n",
        "df = df.rename(columns={'Цитата' : 'citation', 'Автор' : 'author', 'Теги' : 'raw_tags'})"
      ],
      "metadata": {
        "id": "LBpGKnzWaKY6"
      },
      "execution_count": 26,
      "outputs": []
    },
    {
      "cell_type": "code",
      "source": [
        "# приведем теги в человеческий вид\n",
        "transform_tags = []\n",
        "for i in df.raw_tags:\n",
        "    transform_tags.append(transform(i))\n",
        "df['tags'] = pd.Series(transform_tags)"
      ],
      "metadata": {
        "id": "J8SRbAw_aQG2"
      },
      "execution_count": 27,
      "outputs": []
    },
    {
      "cell_type": "code",
      "source": [
        "# удалим пробелы, поменяем ё на е\n",
        "df['citation'] = df['citation'].str.replace('ё','е').reset_index(drop=True)\n",
        "df['citation'].str.strip().reset_index(drop=True)\n",
        "df['author'] = df['author'].str.replace('ё','е').reset_index(drop=True)\n",
        "df['author'].str.strip().reset_index(drop=True)"
      ],
      "metadata": {
        "id": "v1bZiNrVcdJh"
      },
      "execution_count": null,
      "outputs": []
    },
    {
      "cell_type": "code",
      "source": [
        "df['strlen'] = pd.Series([len(i) for i in df.citation])\n",
        "df['num_words'] = pd.Series([len(i.split(' ')) - 1 for i in df.citation])"
      ],
      "metadata": {
        "id": "-ZwIcYkxaimp"
      },
      "execution_count": 29,
      "outputs": []
    },
    {
      "cell_type": "code",
      "source": [
        "df.to_csv('big_data.csv')"
      ],
      "metadata": {
        "id": "jDAhaL7rbZi3"
      },
      "execution_count": 31,
      "outputs": []
    }
  ]
}