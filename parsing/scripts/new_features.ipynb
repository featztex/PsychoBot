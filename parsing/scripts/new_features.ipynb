{
  "cells": [
    {
      "cell_type": "code",
      "execution_count": 22,
      "metadata": {
        "id": "Rxgqu3NrZf7T"
      },
      "outputs": [],
      "source": [
        "import pandas as pd\n",
        "import re\n",
        "import pickle"
      ]
    },
    {
      "cell_type": "code",
      "execution_count": 23,
      "metadata": {
        "id": "h33iXqS2ZuNq"
      },
      "outputs": [],
      "source": [
        "# приведем столбец с тегами в порядок\n",
        "def transform(str):\n",
        "    l = re.sub(\"[\\[\\]\\']\", \"\", str).split(',')\n",
        "    for i in range(0, len(l)):\n",
        "        l[i] = l[i].strip()\n",
        "    return l"
      ]
    },
    {
      "cell_type": "code",
      "execution_count": 25,
      "metadata": {
        "id": "jd5Uig72Z6xL"
      },
      "outputs": [],
      "source": [
        "df = pd.read_csv('big_data.csv') "
      ]
    },
    {
      "cell_type": "code",
      "execution_count": 26,
      "metadata": {
        "id": "LBpGKnzWaKY6"
      },
      "outputs": [],
      "source": [
        "df.drop(df.columns[[0]], axis=1, inplace=True)\n",
        "df = df.rename(columns={'Цитата' : 'citation', 'Автор' : 'author', 'Теги' : 'raw_tags'})"
      ]
    },
    {
      "cell_type": "code",
      "execution_count": 27,
      "metadata": {
        "id": "J8SRbAw_aQG2"
      },
      "outputs": [],
      "source": [
        "# приведем теги в человеческий вид\n",
        "transform_tags = []\n",
        "for i in df.raw_tags:\n",
        "    transform_tags.append(transform(i))\n",
        "df['tags'] = pd.Series(transform_tags)"
      ]
    },
    {
      "cell_type": "code",
      "execution_count": null,
      "metadata": {
        "id": "v1bZiNrVcdJh"
      },
      "outputs": [],
      "source": [
        "# удалим пробелы, поменяем ё на е\n",
        "df['citation'] = df['citation'].str.replace('ё','е').reset_index(drop=True)\n",
        "df['citation'].str.strip().reset_index(drop=True)\n",
        "df['author'] = df['author'].str.replace('ё','е').reset_index(drop=True)\n",
        "df['author'].str.strip().reset_index(drop=True)"
      ]
    },
    {
      "cell_type": "code",
      "execution_count": 29,
      "metadata": {
        "id": "-ZwIcYkxaimp"
      },
      "outputs": [],
      "source": [
        "df['strlen'] = pd.Series([len(i) for i in df.citation])\n",
        "df['num_words'] = pd.Series([len(i.split(' ')) for i in df.citation])"
      ]
    },
    {
      "cell_type": "code",
      "execution_count": 31,
      "metadata": {
        "id": "jDAhaL7rbZi3"
      },
      "outputs": [],
      "source": [
        "df.to_csv('big_data.csv')"
      ]
    }
  ],
  "metadata": {
    "colab": {
      "name": "new_features.ipynb",
      "provenance": []
    },
    "kernelspec": {
      "display_name": "Python 3",
      "name": "python3"
    },
    "language_info": {
      "name": "python"
    }
  },
  "nbformat": 4,
  "nbformat_minor": 0
}
