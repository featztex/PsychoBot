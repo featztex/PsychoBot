{
  "nbformat": 4,
  "nbformat_minor": 0,
  "metadata": {
    "colab": {
      "name": "processing_tagged.txt.ipynb",
      "provenance": []
    },
    "kernelspec": {
      "name": "python3",
      "display_name": "Python 3"
    },
    "language_info": {
      "name": "python"
    }
  },
  "cells": [
    {
      "cell_type": "code",
      "source": [
        "import re"
      ],
      "metadata": {
        "id": "oxdClQMmiwOf"
      },
      "execution_count": 77,
      "outputs": []
    },
    {
      "cell_type": "code",
      "source": [
        "# чистим строчку\n",
        "def clean(string):\n",
        "    s = repr(string)\n",
        "    badwords = ['<|startoftext|>', '<|endoftext|>']\n",
        "    for i in badwords:\n",
        "        s = s.replace(i, '')\n",
        "    s = re.sub(r\"\\\\xa0\", \" \", s)\n",
        "    s = re.sub(r\"[@#$%^&*{}\\\\\\\"\\[\\]\\|`'Х/<>a-zA-Z]\", \"\", s)\n",
        "    s = re.sub(\" +\", \" \", s).strip()\n",
        "    return s"
      ],
      "metadata": {
        "id": "EYXAoDp8ADpU"
      },
      "execution_count": 78,
      "outputs": []
    },
    {
      "cell_type": "code",
      "source": [
        "# проверка на наличие неведомых символов\n",
        "def check(string):\n",
        "\n",
        "    alph = []\n",
        "    a = ord('а')\n",
        "    A = ord('А')\n",
        "    alph += [chr(i) for i in range(a, a + 32)]\n",
        "    alph += [chr(i) for i in range(A, A + 32)]\n",
        "    alph += [str(i) for i in range(0, 10)]\n",
        "    alph += [' ', '-', '.', ',', ':', ';', '!', '?', '«', '»']\n",
        "\n",
        "    for i in range(0, len(string)):\n",
        "        if string[i] not in alph:\n",
        "            return 0\n",
        "    return 1"
      ],
      "metadata": {
        "id": "07Vwi3gPJSi6"
      },
      "execution_count": 79,
      "outputs": []
    },
    {
      "cell_type": "code",
      "execution_count": 80,
      "metadata": {
        "id": "n5OePJo9gm_4"
      },
      "outputs": [],
      "source": [
        "file = open(\"tagged.txt\", \"r\")\n",
        "raw_lines = file.readlines()\n",
        "lines = []"
      ]
    },
    {
      "cell_type": "code",
      "source": [
        "for line in raw_lines:\n",
        "    s = clean(line)\n",
        "    if check(s):\n",
        "        lines.append(s)"
      ],
      "metadata": {
        "id": "zkwnO2d9ikDR"
      },
      "execution_count": 81,
      "outputs": []
    },
    {
      "cell_type": "code",
      "source": [
        "with open('cleaned_tagged.txt', 'w') as f:\n",
        "    for i in lines:\n",
        "        f.write(\"%s\\n\" % i)"
      ],
      "metadata": {
        "id": "2djVYQWJIuqy"
      },
      "execution_count": 83,
      "outputs": []
    }
  ]
}