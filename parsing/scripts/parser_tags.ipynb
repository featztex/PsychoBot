{
  "nbformat": 4,
  "nbformat_minor": 0,
  "metadata": {
    "colab": {
      "name": "parser_tags.ipynb",
      "provenance": [],
      "collapsed_sections": []
    },
    "kernelspec": {
      "name": "python3",
      "display_name": "Python 3"
    },
    "language_info": {
      "name": "python"
    }
  },
  "cells": [
    {
      "cell_type": "code",
      "execution_count": 64,
      "metadata": {
        "id": "xSRxmRH8OuO0"
      },
      "outputs": [],
      "source": [
        "import requests\n",
        "from bs4 import BeautifulSoup\n",
        "import pickle"
      ]
    },
    {
      "cell_type": "code",
      "source": [
        "# считает количество страниц у одного автора\n",
        "def num_pages(link):\n",
        "    soup = BeautifulSoup(requests.get(link).text, \"lxml\")\n",
        "    pages = soup.findAll('li', class_ = 'page-item')\n",
        "\n",
        "    for page in pages:\n",
        "        if page.text == '>':\n",
        "            ref = 'https://mislitel.info' + page.find('a').get('href')\n",
        "\n",
        "    n = int(ref[len(link):].replace('?page=', ''))\n",
        "    return n"
      ],
      "metadata": {
        "id": "3IlqnW_UO5P3"
      },
      "execution_count": 65,
      "outputs": []
    },
    {
      "cell_type": "code",
      "source": [
        "# добавляет в множество все теги одного автора\n",
        "def add_tags(link):\n",
        "    global tags\n",
        "    for i in range(1, num_pages(link) + 1):\n",
        "\n",
        "        if i == 1:\n",
        "            url = link\n",
        "        else:\n",
        "            url = link + '?page=' + str(i)\n",
        "\n",
        "        soup = BeautifulSoup(requests.get(url).text, 'lxml').findAll('div', class_ = 'col-12 cont-tags')\n",
        "        for s in soup:\n",
        "            tags = tags.union(set(s.text.replace('#', ' ').split()))"
      ],
      "metadata": {
        "id": "Z_9KkZPbSNip"
      },
      "execution_count": 66,
      "outputs": []
    },
    {
      "cell_type": "code",
      "source": [
        "!git clone https://github.com/featztex/PsychoBot"
      ],
      "metadata": {
        "id": "p2GSfJ5nO75K"
      },
      "execution_count": null,
      "outputs": []
    },
    {
      "cell_type": "code",
      "source": [
        "links = []\n",
        "tags = set()\n",
        "with open('PsychoBot/parsing/data/links2.pickle', 'rb') as f:\n",
        "    links = pickle.load(f)"
      ],
      "metadata": {
        "id": "r4R_VrMXO_IL"
      },
      "execution_count": 68,
      "outputs": []
    },
    {
      "cell_type": "code",
      "source": [
        "for link in links:\n",
        "    add_tags(link)"
      ],
      "metadata": {
        "id": "taLT8I3P3bKu"
      },
      "execution_count": null,
      "outputs": []
    },
    {
      "cell_type": "code",
      "source": [
        "with open('tags.pickle', 'wb') as f:\n",
        "    pickle.dump(tags, f)"
      ],
      "metadata": {
        "id": "IEY3jyxbr0fs"
      },
      "execution_count": 70,
      "outputs": []
    }
  ]
}