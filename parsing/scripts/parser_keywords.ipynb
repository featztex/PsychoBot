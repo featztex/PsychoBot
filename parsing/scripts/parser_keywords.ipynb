{
  "nbformat": 4,
  "nbformat_minor": 0,
  "metadata": {
    "colab": {
      "name": "parser_keywords.ipynb",
      "provenance": [],
      "collapsed_sections": []
    },
    "kernelspec": {
      "name": "python3",
      "display_name": "Python 3"
    },
    "language_info": {
      "name": "python"
    }
  },
  "cells": [
    {
      "cell_type": "code",
      "execution_count": 53,
      "metadata": {
        "id": "fShnR1TV2Go_"
      },
      "outputs": [],
      "source": [
        "import requests\n",
        "import pickle\n",
        "from bs4 import BeautifulSoup"
      ]
    },
    {
      "cell_type": "code",
      "source": [
        "url = 'https://uaforizm.com/aforizmy-i-citaty-po-alfavitu.html'\n",
        "data = requests.get(url)"
      ],
      "metadata": {
        "id": "AF9Q7BiA4h8c"
      },
      "execution_count": 54,
      "outputs": []
    },
    {
      "cell_type": "code",
      "source": [
        "soup = BeautifulSoup(data.text, \"lxml\")"
      ],
      "metadata": {
        "id": "VYi3bQtr2X1w"
      },
      "execution_count": 55,
      "outputs": []
    },
    {
      "cell_type": "code",
      "source": [
        "themes = soup.findAll('p')\n",
        "lst = []\n",
        "\n",
        "for theme in themes:\n",
        "    if ('https:' in theme.find('a').get('href')):\n",
        "        lst.append(theme.find('a').text)"
      ],
      "metadata": {
        "id": "2cfRJ12O8sjh"
      },
      "execution_count": 56,
      "outputs": []
    },
    {
      "cell_type": "code",
      "source": [
        "with open('themes.pickle', 'wb') as f:\n",
        "    pickle.dump(lst, f)"
      ],
      "metadata": {
        "id": "T_CwhI2ZCw1k"
      },
      "execution_count": 57,
      "outputs": []
    }
  ]
}