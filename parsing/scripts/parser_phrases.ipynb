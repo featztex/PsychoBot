{
  "nbformat": 4,
  "nbformat_minor": 0,
  "metadata": {
    "colab": {
      "name": "parser_phrases.ipynb",
      "provenance": [],
      "collapsed_sections": []
    },
    "kernelspec": {
      "name": "python3",
      "display_name": "Python 3"
    },
    "language_info": {
      "name": "python"
    }
  },
  "cells": [
    {
      "cell_type": "code",
      "source": [
        "import requests\n",
        "from bs4 import BeautifulSoup\n",
        "import pickle\n",
        "import re\n",
        "import pandas as pd"
      ],
      "metadata": {
        "id": "MZ1cOcOviD9v"
      },
      "execution_count": 14,
      "outputs": []
    },
    {
      "cell_type": "code",
      "source": [
        "def num_pages(link):\n",
        "    n = 1 + len(BeautifulSoup(requests.get(link).text, \"lxml\").findAll('a', class_ = 'post-page-numbers'))\n",
        "    return n"
      ],
      "metadata": {
        "id": "YBF34He81ZaT"
      },
      "execution_count": 8,
      "outputs": []
    },
    {
      "cell_type": "code",
      "source": [
        "!git clone https://github.com/featztex/PsychoBot"
      ],
      "metadata": {
        "id": "o61JY5ITybhy"
      },
      "execution_count": null,
      "outputs": []
    },
    {
      "cell_type": "code",
      "source": [
        "links = []\n",
        "with open('PsychoBot/parsing/links.pickle', 'rb') as f:\n",
        "    links = pickle.load(f)"
      ],
      "metadata": {
        "id": "WDdeAgK-vlKj"
      },
      "execution_count": 10,
      "outputs": []
    },
    {
      "cell_type": "code",
      "source": [
        "phrases = []\n",
        "authors = []\n",
        "\n",
        "for link in links:\n",
        "\n",
        "    for i in range(1, num_pages(link) + 1):\n",
        "\n",
        "        if i == 1:\n",
        "            page_url = link\n",
        "        else:\n",
        "            page_url = link + '/' + str(i)\n",
        "        \n",
        "        page = requests.get(page_url)\n",
        "\n",
        "        soup = BeautifulSoup(page.text, \"lxml\").findAll('p')[:-2]\n",
        "        \n",
        "        #костыль moment\n",
        "        if link == 'https://uaforizm.com/vyskazyvanija-zhizni.html':\n",
        "            soup = soup[1::]\n",
        "\n",
        "        cnt = 0\n",
        "        for j in soup:\n",
        "            string = j.text\n",
        "            string = re.sub(r\"[\\d]+ | [a-zA-Z]+\", r\"\", string).strip()\n",
        "            if cnt % 2 == 0:\n",
        "                phrases.append(string)\n",
        "            else:\n",
        "                authors.append(string)\n",
        "            cnt += 1"
      ],
      "metadata": {
        "id": "eOhFTFpK9Uwy"
      },
      "execution_count": 16,
      "outputs": []
    },
    {
      "cell_type": "code",
      "source": [
        "ph = pd.Series(phrases)\n",
        "auth = pd.Series(authors)\n",
        "data = pd.DataFrame({'Цитата' : ph, 'Автор' : auth})"
      ],
      "metadata": {
        "id": "42Dor9ExldHE"
      },
      "execution_count": 21,
      "outputs": []
    },
    {
      "cell_type": "code",
      "source": [
        "data.to_csv('data.csv')"
      ],
      "metadata": {
        "id": "2iCY2ZPup7Wl"
      },
      "execution_count": 22,
      "outputs": []
    }
  ]
}