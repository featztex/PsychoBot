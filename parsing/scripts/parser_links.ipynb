{
  "nbformat": 4,
  "nbformat_minor": 0,
  "metadata": {
    "colab": {
      "name": "parser_links.ipynb",
      "provenance": []
    },
    "kernelspec": {
      "name": "python3",
      "display_name": "Python 3"
    },
    "language_info": {
      "name": "python"
    }
  },
  "cells": [
    {
      "cell_type": "code",
      "execution_count": 1,
      "metadata": {
        "id": "4lgMbIiDCbfx"
      },
      "outputs": [],
      "source": [
        "import requests\n",
        "from bs4 import BeautifulSoup\n",
        "import pickle"
      ]
    },
    {
      "cell_type": "code",
      "source": [
        "url = 'http://uaforizm.com/'\n",
        "data = requests.get(url)"
      ],
      "metadata": {
        "id": "gXMW27v6ChA4"
      },
      "execution_count": 2,
      "outputs": []
    },
    {
      "cell_type": "code",
      "source": [
        "soup = BeautifulSoup(data.text, \"lxml\")\n",
        "sp = soup.findAll('p')"
      ],
      "metadata": {
        "id": "coH8fAWECjRd"
      },
      "execution_count": 3,
      "outputs": []
    },
    {
      "cell_type": "code",
      "source": [
        "links = []\n",
        "\n",
        "for i in sp:\n",
        "    href = i.find('a').get('href')\n",
        "    if ('https:' in href):\n",
        "        links.append(href)"
      ],
      "metadata": {
        "id": "ppE__L4mCmiz"
      },
      "execution_count": 4,
      "outputs": []
    },
    {
      "cell_type": "code",
      "source": [
        "with open('links.pickle', 'wb') as f:\n",
        "    pickle.dump(links, f)"
      ],
      "metadata": {
        "id": "zwF6GQAJCpMK"
      },
      "execution_count": 5,
      "outputs": []
    }
  ]
}